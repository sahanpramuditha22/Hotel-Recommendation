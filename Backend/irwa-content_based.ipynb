{
 "cells": [
  {
   "cell_type": "code",
   "execution_count": 63,
   "id": "7eb47e2c-b617-4e4e-bc8a-b09b6868bcb2",
   "metadata": {},
   "outputs": [],
   "source": [
    "import pandas as pd\n",
    "import numpy as np"
   ]
  },
  {
   "cell_type": "code",
   "execution_count": 64,
   "id": "d42d7ebf-f652-42b5-ae08-9aa7253aeb17",
   "metadata": {},
   "outputs": [],
   "source": [
    "df1 = pd.read_csv('/Users/sahanpramuditha/Downloads/archive (16)/Hotel_details.csv')\n",
    "df2 = pd.read_csv('/Users/sahanpramuditha/Downloads/archive (16)/Hotel_Room_attributes.csv')\n",
    "df3 = pd.read_csv('/Users/sahanpramuditha/Downloads/archive (16)/hotel_price_min_max - Formula.csv')\n",
    "df4 = pd.read_csv('/Users/sahanpramuditha/Downloads/archive (16)/hotels_RoomPrice.csv')"
   ]
  },
  {
   "cell_type": "code",
   "execution_count": 65,
   "id": "3b40efdd-557f-4e7b-a5cc-f603677574c9",
   "metadata": {},
   "outputs": [
    {
     "data": {
      "text/html": [
       "<div>\n",
       "<style scoped>\n",
       "    .dataframe tbody tr th:only-of-type {\n",
       "        vertical-align: middle;\n",
       "    }\n",
       "\n",
       "    .dataframe tbody tr th {\n",
       "        vertical-align: top;\n",
       "    }\n",
       "\n",
       "    .dataframe thead th {\n",
       "        text-align: right;\n",
       "    }\n",
       "</style>\n",
       "<table border=\"1\" class=\"dataframe\">\n",
       "  <thead>\n",
       "    <tr style=\"text-align: right;\">\n",
       "      <th></th>\n",
       "      <th>id</th>\n",
       "      <th>hotelid</th>\n",
       "      <th>hotelname</th>\n",
       "      <th>address</th>\n",
       "      <th>city</th>\n",
       "      <th>country</th>\n",
       "      <th>zipcode</th>\n",
       "      <th>propertytype</th>\n",
       "      <th>starrating</th>\n",
       "      <th>latitude</th>\n",
       "      <th>longitude</th>\n",
       "      <th>Source</th>\n",
       "      <th>url</th>\n",
       "      <th>curr</th>\n",
       "    </tr>\n",
       "  </thead>\n",
       "  <tbody>\n",
       "    <tr>\n",
       "      <th>0</th>\n",
       "      <td>46406</td>\n",
       "      <td>1771651</td>\n",
       "      <td>Mediteran Bungalow Galeb</td>\n",
       "      <td>Vukovarska 7</td>\n",
       "      <td>Omis</td>\n",
       "      <td>Croatia</td>\n",
       "      <td>21310.0</td>\n",
       "      <td>Holiday parks</td>\n",
       "      <td>4</td>\n",
       "      <td>43.440124</td>\n",
       "      <td>16.682505</td>\n",
       "      <td>2</td>\n",
       "      <td>https://www.booking.com/hotel/hr/bungalow-luxu...</td>\n",
       "      <td>EUR</td>\n",
       "    </tr>\n",
       "    <tr>\n",
       "      <th>1</th>\n",
       "      <td>46407</td>\n",
       "      <td>177167</td>\n",
       "      <td>Hotel Polonia</td>\n",
       "      <td>Plac Teatralny 5</td>\n",
       "      <td>Torun</td>\n",
       "      <td>Poland</td>\n",
       "      <td>NaN</td>\n",
       "      <td>Hotels</td>\n",
       "      <td>3</td>\n",
       "      <td>53.012329</td>\n",
       "      <td>18.603800</td>\n",
       "      <td>5</td>\n",
       "      <td>https://www.agoda.com/en-gb/hotel-polonia/hote...</td>\n",
       "      <td>EUR</td>\n",
       "    </tr>\n",
       "    <tr>\n",
       "      <th>2</th>\n",
       "      <td>46408</td>\n",
       "      <td>1771675</td>\n",
       "      <td>Rifugio Sass Bece</td>\n",
       "      <td>Belvedere del Pordoi,1</td>\n",
       "      <td>Canazei</td>\n",
       "      <td>Italy</td>\n",
       "      <td>38032.0</td>\n",
       "      <td>Hotels</td>\n",
       "      <td>3</td>\n",
       "      <td>46.477920</td>\n",
       "      <td>11.813350</td>\n",
       "      <td>2</td>\n",
       "      <td>http://www.booking.com/hotel/it/rifugio-sass-b...</td>\n",
       "      <td>EUR</td>\n",
       "    </tr>\n",
       "    <tr>\n",
       "      <th>3</th>\n",
       "      <td>46409</td>\n",
       "      <td>177168</td>\n",
       "      <td>Madalena Hotel</td>\n",
       "      <td>Mykonos</td>\n",
       "      <td>Mykonos</td>\n",
       "      <td>Greece</td>\n",
       "      <td>84600.0</td>\n",
       "      <td>Hotels</td>\n",
       "      <td>3</td>\n",
       "      <td>37.452316</td>\n",
       "      <td>25.329849</td>\n",
       "      <td>5</td>\n",
       "      <td>https://www.agoda.com/en-gb/madalena-hotel/hot...</td>\n",
       "      <td>EUR</td>\n",
       "    </tr>\n",
       "    <tr>\n",
       "      <th>4</th>\n",
       "      <td>46410</td>\n",
       "      <td>1771718</td>\n",
       "      <td>Pension Morenfeld</td>\n",
       "      <td>Mair im Korn Strasse 2</td>\n",
       "      <td>Lagundo</td>\n",
       "      <td>Italy</td>\n",
       "      <td>39022.0</td>\n",
       "      <td>Hotels</td>\n",
       "      <td>3</td>\n",
       "      <td>46.682780</td>\n",
       "      <td>11.131736</td>\n",
       "      <td>2</td>\n",
       "      <td>http://www.booking.com/hotel/it/pension-morenf...</td>\n",
       "      <td>EUR</td>\n",
       "    </tr>\n",
       "  </tbody>\n",
       "</table>\n",
       "</div>"
      ],
      "text/plain": [
       "      id  hotelid                 hotelname                 address     city  \\\n",
       "0  46406  1771651  Mediteran Bungalow Galeb            Vukovarska 7     Omis   \n",
       "1  46407   177167             Hotel Polonia        Plac Teatralny 5    Torun   \n",
       "2  46408  1771675         Rifugio Sass Bece  Belvedere del Pordoi,1  Canazei   \n",
       "3  46409   177168            Madalena Hotel                 Mykonos  Mykonos   \n",
       "4  46410  1771718         Pension Morenfeld  Mair im Korn Strasse 2  Lagundo   \n",
       "\n",
       "   country  zipcode   propertytype  starrating   latitude  longitude  Source  \\\n",
       "0  Croatia  21310.0  Holiday parks           4  43.440124  16.682505       2   \n",
       "1   Poland      NaN         Hotels           3  53.012329  18.603800       5   \n",
       "2    Italy  38032.0         Hotels           3  46.477920  11.813350       2   \n",
       "3   Greece  84600.0         Hotels           3  37.452316  25.329849       5   \n",
       "4    Italy  39022.0         Hotels           3  46.682780  11.131736       2   \n",
       "\n",
       "                                                 url curr  \n",
       "0  https://www.booking.com/hotel/hr/bungalow-luxu...  EUR  \n",
       "1  https://www.agoda.com/en-gb/hotel-polonia/hote...  EUR  \n",
       "2  http://www.booking.com/hotel/it/rifugio-sass-b...  EUR  \n",
       "3  https://www.agoda.com/en-gb/madalena-hotel/hot...  EUR  \n",
       "4  http://www.booking.com/hotel/it/pension-morenf...  EUR  "
      ]
     },
     "execution_count": 65,
     "metadata": {},
     "output_type": "execute_result"
    }
   ],
   "source": [
    "df1.head()"
   ]
  },
  {
   "cell_type": "code",
   "execution_count": 66,
   "id": "e5d96c29-308f-476d-8d57-56b81bafff2d",
   "metadata": {},
   "outputs": [
    {
     "data": {
      "text/plain": [
       "0         https://www.booking.com/hotel/hr/bungalow-luxu...\n",
       "1         https://www.agoda.com/en-gb/hotel-polonia/hote...\n",
       "2         http://www.booking.com/hotel/it/rifugio-sass-b...\n",
       "3         https://www.agoda.com/en-gb/madalena-hotel/hot...\n",
       "4         http://www.booking.com/hotel/it/pension-morenf...\n",
       "                                ...                        \n",
       "108043    http://www.booking.com/hotel/de/stadt-tuttling...\n",
       "108044     http://www.booking.com/hotel/bg/beroe.en-gb.html\n",
       "108045    http://www.booking.com/hotel/bg/rothmans-bansk...\n",
       "108046    https://www.booking.com/hotel/bg/rainbow-4-bou...\n",
       "108047    http://www.booking.com/hotel/bg/rainbow-2-caca...\n",
       "Name: url, Length: 108048, dtype: object"
      ]
     },
     "execution_count": 66,
     "metadata": {},
     "output_type": "execute_result"
    }
   ],
   "source": [
    "df1['url']"
   ]
  },
  {
   "cell_type": "code",
   "execution_count": 67,
   "id": "22302a17-4704-4c17-80e6-407fc5d87e51",
   "metadata": {},
   "outputs": [
    {
     "data": {
      "text/html": [
       "<div>\n",
       "<style scoped>\n",
       "    .dataframe tbody tr th:only-of-type {\n",
       "        vertical-align: middle;\n",
       "    }\n",
       "\n",
       "    .dataframe tbody tr th {\n",
       "        vertical-align: top;\n",
       "    }\n",
       "\n",
       "    .dataframe thead th {\n",
       "        text-align: right;\n",
       "    }\n",
       "</style>\n",
       "<table border=\"1\" class=\"dataframe\">\n",
       "  <thead>\n",
       "    <tr style=\"text-align: right;\">\n",
       "      <th></th>\n",
       "      <th>id</th>\n",
       "      <th>hotelcode</th>\n",
       "      <th>roomamenities</th>\n",
       "      <th>roomtype</th>\n",
       "      <th>ratedescription</th>\n",
       "    </tr>\n",
       "  </thead>\n",
       "  <tbody>\n",
       "    <tr>\n",
       "      <th>0</th>\n",
       "      <td>50677497</td>\n",
       "      <td>634876</td>\n",
       "      <td>Air conditioning: ;Alarm clock: ;Carpeting: ;C...</td>\n",
       "      <td>Double Room</td>\n",
       "      <td>Room size: 15 m²/161 ft², Shower, 1 king bed</td>\n",
       "    </tr>\n",
       "    <tr>\n",
       "      <th>1</th>\n",
       "      <td>50672149</td>\n",
       "      <td>8328096</td>\n",
       "      <td>Air conditioning: ;Closet: ;Fireplace: ;Free W...</td>\n",
       "      <td>Vacation Home</td>\n",
       "      <td>Shower, Kitchenette, 2 bedrooms, 1 double bed ...</td>\n",
       "    </tr>\n",
       "    <tr>\n",
       "      <th>2</th>\n",
       "      <td>50643430</td>\n",
       "      <td>8323442</td>\n",
       "      <td>Air conditioning: ;Closet: ;Dishwasher: ;Firep...</td>\n",
       "      <td>Vacation Home</td>\n",
       "      <td>Shower, Kitchenette, 2 bedrooms, 1 double bed ...</td>\n",
       "    </tr>\n",
       "    <tr>\n",
       "      <th>3</th>\n",
       "      <td>50650317</td>\n",
       "      <td>7975</td>\n",
       "      <td>Air conditioning: ;Clothes rack: ;Coffee/tea m...</td>\n",
       "      <td>Standard Triple Room</td>\n",
       "      <td>Room size: 20 m²/215 ft², Shower, 3 single beds</td>\n",
       "    </tr>\n",
       "    <tr>\n",
       "      <th>4</th>\n",
       "      <td>50650318</td>\n",
       "      <td>7975</td>\n",
       "      <td>Air conditioning: ;Clothes rack: ;Coffee/tea m...</td>\n",
       "      <td>Standard Triple Room</td>\n",
       "      <td>Room size: 20 m²/215 ft², Shower, 3 single beds</td>\n",
       "    </tr>\n",
       "  </tbody>\n",
       "</table>\n",
       "</div>"
      ],
      "text/plain": [
       "         id  hotelcode                                      roomamenities  \\\n",
       "0  50677497     634876  Air conditioning: ;Alarm clock: ;Carpeting: ;C...   \n",
       "1  50672149    8328096  Air conditioning: ;Closet: ;Fireplace: ;Free W...   \n",
       "2  50643430    8323442  Air conditioning: ;Closet: ;Dishwasher: ;Firep...   \n",
       "3  50650317       7975  Air conditioning: ;Clothes rack: ;Coffee/tea m...   \n",
       "4  50650318       7975  Air conditioning: ;Clothes rack: ;Coffee/tea m...   \n",
       "\n",
       "               roomtype                                    ratedescription  \n",
       "0           Double Room       Room size: 15 m²/161 ft², Shower, 1 king bed  \n",
       "1         Vacation Home  Shower, Kitchenette, 2 bedrooms, 1 double bed ...  \n",
       "2         Vacation Home  Shower, Kitchenette, 2 bedrooms, 1 double bed ...  \n",
       "3  Standard Triple Room    Room size: 20 m²/215 ft², Shower, 3 single beds  \n",
       "4  Standard Triple Room    Room size: 20 m²/215 ft², Shower, 3 single beds  "
      ]
     },
     "execution_count": 67,
     "metadata": {},
     "output_type": "execute_result"
    }
   ],
   "source": [
    "df2.head()"
   ]
  },
  {
   "cell_type": "markdown",
   "id": "f59a8b18-869c-491c-8f6c-cc7d53bb1a01",
   "metadata": {},
   "source": [
    "DATA CHECK"
   ]
  },
  {
   "cell_type": "code",
   "execution_count": 68,
   "id": "9d435a55-e6e9-457f-9191-15fc2f6ee18e",
   "metadata": {},
   "outputs": [],
   "source": [
    "df2.rename(columns = {'hotelcode':'hotelid'},inplace = True)"
   ]
  },
  {
   "cell_type": "code",
   "execution_count": 69,
   "id": "932efb10-0d88-42e8-bc41-ac1e0bdcbb67",
   "metadata": {},
   "outputs": [],
   "source": [
    "df_new = df2.merge(df1,on = 'hotelid')"
   ]
  },
  {
   "cell_type": "code",
   "execution_count": 70,
   "id": "b587839d-f4d3-4132-a8a7-1a543bbc63cc",
   "metadata": {},
   "outputs": [
    {
     "data": {
      "text/html": [
       "<div>\n",
       "<style scoped>\n",
       "    .dataframe tbody tr th:only-of-type {\n",
       "        vertical-align: middle;\n",
       "    }\n",
       "\n",
       "    .dataframe tbody tr th {\n",
       "        vertical-align: top;\n",
       "    }\n",
       "\n",
       "    .dataframe thead th {\n",
       "        text-align: right;\n",
       "    }\n",
       "</style>\n",
       "<table border=\"1\" class=\"dataframe\">\n",
       "  <thead>\n",
       "    <tr style=\"text-align: right;\">\n",
       "      <th></th>\n",
       "      <th>id_x</th>\n",
       "      <th>hotelid</th>\n",
       "      <th>roomamenities</th>\n",
       "      <th>roomtype</th>\n",
       "      <th>ratedescription</th>\n",
       "      <th>id_y</th>\n",
       "      <th>hotelname</th>\n",
       "      <th>address</th>\n",
       "      <th>city</th>\n",
       "      <th>country</th>\n",
       "      <th>zipcode</th>\n",
       "      <th>propertytype</th>\n",
       "      <th>starrating</th>\n",
       "      <th>latitude</th>\n",
       "      <th>longitude</th>\n",
       "      <th>Source</th>\n",
       "      <th>url</th>\n",
       "      <th>curr</th>\n",
       "    </tr>\n",
       "  </thead>\n",
       "  <tbody>\n",
       "    <tr>\n",
       "      <th>0</th>\n",
       "      <td>50677497</td>\n",
       "      <td>634876</td>\n",
       "      <td>Air conditioning: ;Alarm clock: ;Carpeting: ;C...</td>\n",
       "      <td>Double Room</td>\n",
       "      <td>Room size: 15 m²/161 ft², Shower, 1 king bed</td>\n",
       "      <td>135972</td>\n",
       "      <td>The Old Cider House</td>\n",
       "      <td>25 Castle Street</td>\n",
       "      <td>Nether Stowey</td>\n",
       "      <td>United Kingdom</td>\n",
       "      <td>NaN</td>\n",
       "      <td>Hotels</td>\n",
       "      <td>4</td>\n",
       "      <td>51.150921</td>\n",
       "      <td>-3.158470</td>\n",
       "      <td>5</td>\n",
       "      <td>https://www.agoda.com/en-gb/the-old-cider-hous...</td>\n",
       "      <td>GBP</td>\n",
       "    </tr>\n",
       "    <tr>\n",
       "      <th>1</th>\n",
       "      <td>50672149</td>\n",
       "      <td>8328096</td>\n",
       "      <td>Air conditioning: ;Closet: ;Fireplace: ;Free W...</td>\n",
       "      <td>Vacation Home</td>\n",
       "      <td>Shower, Kitchenette, 2 bedrooms, 1 double bed ...</td>\n",
       "      <td>66727</td>\n",
       "      <td>Pantlleni</td>\n",
       "      <td>NaN</td>\n",
       "      <td>Beddgelert</td>\n",
       "      <td>United Kingdom</td>\n",
       "      <td>NaN</td>\n",
       "      <td>Hotels</td>\n",
       "      <td>3</td>\n",
       "      <td>53.042229</td>\n",
       "      <td>-4.033180</td>\n",
       "      <td>5</td>\n",
       "      <td>https://www.agoda.com/en-gb/pantlleni/hotel/be...</td>\n",
       "      <td>GBP</td>\n",
       "    </tr>\n",
       "    <tr>\n",
       "      <th>2</th>\n",
       "      <td>50643430</td>\n",
       "      <td>8323442</td>\n",
       "      <td>Air conditioning: ;Closet: ;Dishwasher: ;Firep...</td>\n",
       "      <td>Vacation Home</td>\n",
       "      <td>Shower, Kitchenette, 2 bedrooms, 1 double bed ...</td>\n",
       "      <td>65369</td>\n",
       "      <td>Willow Cottage</td>\n",
       "      <td>NaN</td>\n",
       "      <td>Beverley</td>\n",
       "      <td>United Kingdom</td>\n",
       "      <td>NaN</td>\n",
       "      <td>Hotels</td>\n",
       "      <td>3</td>\n",
       "      <td>53.843220</td>\n",
       "      <td>-0.497970</td>\n",
       "      <td>5</td>\n",
       "      <td>https://www.agoda.com/en-gb/willow-cottage/hot...</td>\n",
       "      <td>GBP</td>\n",
       "    </tr>\n",
       "    <tr>\n",
       "      <th>3</th>\n",
       "      <td>50650317</td>\n",
       "      <td>7975</td>\n",
       "      <td>Air conditioning: ;Clothes rack: ;Coffee/tea m...</td>\n",
       "      <td>Standard Triple Room</td>\n",
       "      <td>Room size: 20 m²/215 ft², Shower, 3 single beds</td>\n",
       "      <td>60309</td>\n",
       "      <td>Apollo Hotel London</td>\n",
       "      <td>64-66 Queensborough Terrace</td>\n",
       "      <td>London</td>\n",
       "      <td>United Kingdom</td>\n",
       "      <td>NaN</td>\n",
       "      <td>Hotels</td>\n",
       "      <td>2</td>\n",
       "      <td>51.511234</td>\n",
       "      <td>-0.185117</td>\n",
       "      <td>5</td>\n",
       "      <td>https://www.agoda.com/en-gb/apollo-hotel-londo...</td>\n",
       "      <td>GBP</td>\n",
       "    </tr>\n",
       "    <tr>\n",
       "      <th>4</th>\n",
       "      <td>50650318</td>\n",
       "      <td>7975</td>\n",
       "      <td>Air conditioning: ;Clothes rack: ;Coffee/tea m...</td>\n",
       "      <td>Standard Triple Room</td>\n",
       "      <td>Room size: 20 m²/215 ft², Shower, 3 single beds</td>\n",
       "      <td>60309</td>\n",
       "      <td>Apollo Hotel London</td>\n",
       "      <td>64-66 Queensborough Terrace</td>\n",
       "      <td>London</td>\n",
       "      <td>United Kingdom</td>\n",
       "      <td>NaN</td>\n",
       "      <td>Hotels</td>\n",
       "      <td>2</td>\n",
       "      <td>51.511234</td>\n",
       "      <td>-0.185117</td>\n",
       "      <td>5</td>\n",
       "      <td>https://www.agoda.com/en-gb/apollo-hotel-londo...</td>\n",
       "      <td>GBP</td>\n",
       "    </tr>\n",
       "  </tbody>\n",
       "</table>\n",
       "</div>"
      ],
      "text/plain": [
       "       id_x  hotelid                                      roomamenities  \\\n",
       "0  50677497   634876  Air conditioning: ;Alarm clock: ;Carpeting: ;C...   \n",
       "1  50672149  8328096  Air conditioning: ;Closet: ;Fireplace: ;Free W...   \n",
       "2  50643430  8323442  Air conditioning: ;Closet: ;Dishwasher: ;Firep...   \n",
       "3  50650317     7975  Air conditioning: ;Clothes rack: ;Coffee/tea m...   \n",
       "4  50650318     7975  Air conditioning: ;Clothes rack: ;Coffee/tea m...   \n",
       "\n",
       "               roomtype                                    ratedescription  \\\n",
       "0           Double Room       Room size: 15 m²/161 ft², Shower, 1 king bed   \n",
       "1         Vacation Home  Shower, Kitchenette, 2 bedrooms, 1 double bed ...   \n",
       "2         Vacation Home  Shower, Kitchenette, 2 bedrooms, 1 double bed ...   \n",
       "3  Standard Triple Room    Room size: 20 m²/215 ft², Shower, 3 single beds   \n",
       "4  Standard Triple Room    Room size: 20 m²/215 ft², Shower, 3 single beds   \n",
       "\n",
       "     id_y            hotelname                      address           city  \\\n",
       "0  135972  The Old Cider House             25 Castle Street  Nether Stowey   \n",
       "1   66727            Pantlleni                          NaN     Beddgelert   \n",
       "2   65369       Willow Cottage                          NaN       Beverley   \n",
       "3   60309  Apollo Hotel London  64-66 Queensborough Terrace         London   \n",
       "4   60309  Apollo Hotel London  64-66 Queensborough Terrace         London   \n",
       "\n",
       "          country  zipcode propertytype  starrating   latitude  longitude  \\\n",
       "0  United Kingdom      NaN       Hotels           4  51.150921  -3.158470   \n",
       "1  United Kingdom      NaN       Hotels           3  53.042229  -4.033180   \n",
       "2  United Kingdom      NaN       Hotels           3  53.843220  -0.497970   \n",
       "3  United Kingdom      NaN       Hotels           2  51.511234  -0.185117   \n",
       "4  United Kingdom      NaN       Hotels           2  51.511234  -0.185117   \n",
       "\n",
       "   Source                                                url curr  \n",
       "0       5  https://www.agoda.com/en-gb/the-old-cider-hous...  GBP  \n",
       "1       5  https://www.agoda.com/en-gb/pantlleni/hotel/be...  GBP  \n",
       "2       5  https://www.agoda.com/en-gb/willow-cottage/hot...  GBP  \n",
       "3       5  https://www.agoda.com/en-gb/apollo-hotel-londo...  GBP  \n",
       "4       5  https://www.agoda.com/en-gb/apollo-hotel-londo...  GBP  "
      ]
     },
     "execution_count": 70,
     "metadata": {},
     "output_type": "execute_result"
    }
   ],
   "source": [
    "df_new.head()"
   ]
  },
  {
   "cell_type": "code",
   "execution_count": 71,
   "id": "12973d52-cfd7-4be4-9aeb-c8e02d521f8d",
   "metadata": {},
   "outputs": [
    {
     "data": {
      "text/plain": [
       "(181415, 18)"
      ]
     },
     "execution_count": 71,
     "metadata": {},
     "output_type": "execute_result"
    }
   ],
   "source": [
    "df_new.shape"
   ]
  },
  {
   "cell_type": "code",
   "execution_count": 72,
   "id": "dc5262da-8c54-42ca-bb8b-122cf46f01ab",
   "metadata": {},
   "outputs": [
    {
     "data": {
      "text/plain": [
       "id_x                   0\n",
       "hotelid                0\n",
       "roomamenities       5309\n",
       "roomtype               0\n",
       "ratedescription     5309\n",
       "id_y                   0\n",
       "hotelname              0\n",
       "address              577\n",
       "city                   0\n",
       "country                0\n",
       "zipcode            86703\n",
       "propertytype           0\n",
       "starrating             0\n",
       "latitude               0\n",
       "longitude              0\n",
       "Source                 0\n",
       "url                    0\n",
       "curr                   0\n",
       "dtype: int64"
      ]
     },
     "execution_count": 72,
     "metadata": {},
     "output_type": "execute_result"
    }
   ],
   "source": [
    "df_new.isna().sum()"
   ]
  },
  {
   "cell_type": "code",
   "execution_count": 73,
   "id": "732d95c0-06a5-4a9e-af7d-f40b11228e3a",
   "metadata": {},
   "outputs": [
    {
     "data": {
      "text/plain": [
       "np.int64(0)"
      ]
     },
     "execution_count": 73,
     "metadata": {},
     "output_type": "execute_result"
    }
   ],
   "source": [
    "df_new.duplicated().sum()"
   ]
  },
  {
   "cell_type": "code",
   "execution_count": 74,
   "id": "546db1ce-dca9-4ead-b919-1f4f0cc1df2e",
   "metadata": {},
   "outputs": [],
   "source": [
    "df_new.drop(['zipcode'],axis = 1,inplace = True)"
   ]
  },
  {
   "cell_type": "code",
   "execution_count": 75,
   "id": "a61791c8-2480-4392-8a4b-a5c3a36bc05f",
   "metadata": {},
   "outputs": [],
   "source": [
    "df_new.dropna(inplace = True)"
   ]
  },
  {
   "cell_type": "code",
   "execution_count": 76,
   "id": "705273e1-1c1e-4109-931d-fc103b73f91b",
   "metadata": {},
   "outputs": [
    {
     "data": {
      "text/plain": [
       "(175529, 17)"
      ]
     },
     "execution_count": 76,
     "metadata": {},
     "output_type": "execute_result"
    }
   ],
   "source": [
    "df_new.shape"
   ]
  },
  {
   "cell_type": "code",
   "execution_count": 77,
   "id": "4340bb81-9e8c-43db-a5fa-9ec8a39d4b92",
   "metadata": {},
   "outputs": [
    {
     "data": {
      "text/html": [
       "<div>\n",
       "<style scoped>\n",
       "    .dataframe tbody tr th:only-of-type {\n",
       "        vertical-align: middle;\n",
       "    }\n",
       "\n",
       "    .dataframe tbody tr th {\n",
       "        vertical-align: top;\n",
       "    }\n",
       "\n",
       "    .dataframe thead th {\n",
       "        text-align: right;\n",
       "    }\n",
       "</style>\n",
       "<table border=\"1\" class=\"dataframe\">\n",
       "  <thead>\n",
       "    <tr style=\"text-align: right;\">\n",
       "      <th></th>\n",
       "      <th>hotelcode</th>\n",
       "      <th>min</th>\n",
       "      <th>max</th>\n",
       "      <th>Diff_Min</th>\n",
       "      <th>Diff_Max</th>\n",
       "      <th>Score</th>\n",
       "    </tr>\n",
       "  </thead>\n",
       "  <tbody>\n",
       "    <tr>\n",
       "      <th>0</th>\n",
       "      <td>31</td>\n",
       "      <td>75.10</td>\n",
       "      <td>189.88</td>\n",
       "      <td>0.000</td>\n",
       "      <td>0.000</td>\n",
       "      <td>0.00</td>\n",
       "    </tr>\n",
       "    <tr>\n",
       "      <th>1</th>\n",
       "      <td>97</td>\n",
       "      <td>259.76</td>\n",
       "      <td>400.00</td>\n",
       "      <td>1.103</td>\n",
       "      <td>0.712</td>\n",
       "      <td>0.91</td>\n",
       "    </tr>\n",
       "    <tr>\n",
       "      <th>2</th>\n",
       "      <td>834</td>\n",
       "      <td>220.67</td>\n",
       "      <td>656.86</td>\n",
       "      <td>0.786</td>\n",
       "      <td>1.124</td>\n",
       "      <td>0.95</td>\n",
       "    </tr>\n",
       "    <tr>\n",
       "      <th>3</th>\n",
       "      <td>3144</td>\n",
       "      <td>254.54</td>\n",
       "      <td>347.30</td>\n",
       "      <td>0.886</td>\n",
       "      <td>0.395</td>\n",
       "      <td>0.64</td>\n",
       "    </tr>\n",
       "    <tr>\n",
       "      <th>4</th>\n",
       "      <td>11203</td>\n",
       "      <td>230.91</td>\n",
       "      <td>244.58</td>\n",
       "      <td>0.748</td>\n",
       "      <td>0.149</td>\n",
       "      <td>0.45</td>\n",
       "    </tr>\n",
       "  </tbody>\n",
       "</table>\n",
       "</div>"
      ],
      "text/plain": [
       "   hotelcode     min     max  Diff_Min  Diff_Max  Score\n",
       "0         31   75.10  189.88     0.000     0.000   0.00\n",
       "1         97  259.76  400.00     1.103     0.712   0.91\n",
       "2        834  220.67  656.86     0.786     1.124   0.95\n",
       "3       3144  254.54  347.30     0.886     0.395   0.64\n",
       "4      11203  230.91  244.58     0.748     0.149   0.45"
      ]
     },
     "execution_count": 77,
     "metadata": {},
     "output_type": "execute_result"
    }
   ],
   "source": [
    "df3.head()"
   ]
  },
  {
   "cell_type": "code",
   "execution_count": 78,
   "id": "413c213b-0745-425f-8897-542727710ba1",
   "metadata": {},
   "outputs": [],
   "source": [
    "df3.rename(columns  = {'hotelcode':'hotelid'},inplace = True)"
   ]
  },
  {
   "cell_type": "code",
   "execution_count": 79,
   "id": "05a627d0-665c-4da4-906f-aa9ffc134eef",
   "metadata": {},
   "outputs": [
    {
     "data": {
      "text/html": [
       "<div>\n",
       "<style scoped>\n",
       "    .dataframe tbody tr th:only-of-type {\n",
       "        vertical-align: middle;\n",
       "    }\n",
       "\n",
       "    .dataframe tbody tr th {\n",
       "        vertical-align: top;\n",
       "    }\n",
       "\n",
       "    .dataframe thead th {\n",
       "        text-align: right;\n",
       "    }\n",
       "</style>\n",
       "<table border=\"1\" class=\"dataframe\">\n",
       "  <thead>\n",
       "    <tr style=\"text-align: right;\">\n",
       "      <th></th>\n",
       "      <th>hotelid</th>\n",
       "      <th>min</th>\n",
       "      <th>max</th>\n",
       "      <th>Diff_Min</th>\n",
       "      <th>Diff_Max</th>\n",
       "      <th>Score</th>\n",
       "    </tr>\n",
       "  </thead>\n",
       "  <tbody>\n",
       "    <tr>\n",
       "      <th>0</th>\n",
       "      <td>31</td>\n",
       "      <td>75.10</td>\n",
       "      <td>189.88</td>\n",
       "      <td>0.000</td>\n",
       "      <td>0.000</td>\n",
       "      <td>0.00</td>\n",
       "    </tr>\n",
       "    <tr>\n",
       "      <th>1</th>\n",
       "      <td>97</td>\n",
       "      <td>259.76</td>\n",
       "      <td>400.00</td>\n",
       "      <td>1.103</td>\n",
       "      <td>0.712</td>\n",
       "      <td>0.91</td>\n",
       "    </tr>\n",
       "    <tr>\n",
       "      <th>2</th>\n",
       "      <td>834</td>\n",
       "      <td>220.67</td>\n",
       "      <td>656.86</td>\n",
       "      <td>0.786</td>\n",
       "      <td>1.124</td>\n",
       "      <td>0.95</td>\n",
       "    </tr>\n",
       "    <tr>\n",
       "      <th>3</th>\n",
       "      <td>3144</td>\n",
       "      <td>254.54</td>\n",
       "      <td>347.30</td>\n",
       "      <td>0.886</td>\n",
       "      <td>0.395</td>\n",
       "      <td>0.64</td>\n",
       "    </tr>\n",
       "    <tr>\n",
       "      <th>4</th>\n",
       "      <td>11203</td>\n",
       "      <td>230.91</td>\n",
       "      <td>244.58</td>\n",
       "      <td>0.748</td>\n",
       "      <td>0.149</td>\n",
       "      <td>0.45</td>\n",
       "    </tr>\n",
       "  </tbody>\n",
       "</table>\n",
       "</div>"
      ],
      "text/plain": [
       "   hotelid     min     max  Diff_Min  Diff_Max  Score\n",
       "0       31   75.10  189.88     0.000     0.000   0.00\n",
       "1       97  259.76  400.00     1.103     0.712   0.91\n",
       "2      834  220.67  656.86     0.786     1.124   0.95\n",
       "3     3144  254.54  347.30     0.886     0.395   0.64\n",
       "4    11203  230.91  244.58     0.748     0.149   0.45"
      ]
     },
     "execution_count": 79,
     "metadata": {},
     "output_type": "execute_result"
    }
   ],
   "source": [
    "df3.head()"
   ]
  },
  {
   "cell_type": "code",
   "execution_count": 80,
   "id": "0adbf7b0-e5df-4a22-9844-aa15fb2b7871",
   "metadata": {},
   "outputs": [],
   "source": [
    "pd.set_option('display.max_columns',30)"
   ]
  },
  {
   "cell_type": "code",
   "execution_count": 81,
   "id": "2e55acac-e972-4d16-a679-002226c98475",
   "metadata": {},
   "outputs": [
    {
     "data": {
      "text/html": [
       "<div>\n",
       "<style scoped>\n",
       "    .dataframe tbody tr th:only-of-type {\n",
       "        vertical-align: middle;\n",
       "    }\n",
       "\n",
       "    .dataframe tbody tr th {\n",
       "        vertical-align: top;\n",
       "    }\n",
       "\n",
       "    .dataframe thead th {\n",
       "        text-align: right;\n",
       "    }\n",
       "</style>\n",
       "<table border=\"1\" class=\"dataframe\">\n",
       "  <thead>\n",
       "    <tr style=\"text-align: right;\">\n",
       "      <th></th>\n",
       "      <th>id</th>\n",
       "      <th>refid</th>\n",
       "      <th>hotelcode</th>\n",
       "      <th>websitecode</th>\n",
       "      <th>dtcollected</th>\n",
       "      <th>ratedate</th>\n",
       "      <th>los</th>\n",
       "      <th>guests</th>\n",
       "      <th>roomtype</th>\n",
       "      <th>onsiterate</th>\n",
       "      <th>netrate</th>\n",
       "      <th>currency</th>\n",
       "      <th>ratedescription</th>\n",
       "      <th>ratetype</th>\n",
       "      <th>sourceurl</th>\n",
       "      <th>roomamenities</th>\n",
       "      <th>maxoccupancy</th>\n",
       "      <th>ispromo</th>\n",
       "      <th>closed</th>\n",
       "      <th>discount</th>\n",
       "      <th>promoname</th>\n",
       "      <th>status_code</th>\n",
       "      <th>taxstatus</th>\n",
       "      <th>taxtype</th>\n",
       "      <th>taxamount</th>\n",
       "      <th>proxyused</th>\n",
       "      <th>israteperstay</th>\n",
       "      <th>mealinclusiontype</th>\n",
       "      <th>hotelblock</th>\n",
       "      <th>input_dtcollected</th>\n",
       "    </tr>\n",
       "  </thead>\n",
       "  <tbody>\n",
       "    <tr>\n",
       "      <th>0</th>\n",
       "      <td>50677497</td>\n",
       "      <td>8646773</td>\n",
       "      <td>634876</td>\n",
       "      <td>5</td>\n",
       "      <td>2019-10-12 15:46:54</td>\n",
       "      <td>2019-11-02</td>\n",
       "      <td>1</td>\n",
       "      <td>1</td>\n",
       "      <td>Double Room</td>\n",
       "      <td>82.36</td>\n",
       "      <td>87.84</td>\n",
       "      <td>USD</td>\n",
       "      <td>Room size: 15 m²/161 ft², Shower, 1 king bed</td>\n",
       "      <td>Cancellation policy</td>\n",
       "      <td>https://www.agoda.com/en-gb/the-old-cider-hous...</td>\n",
       "      <td>Air conditioning: ;Alarm clock: ;Carpeting: ;C...</td>\n",
       "      <td>1</td>\n",
       "      <td>Y</td>\n",
       "      <td>N</td>\n",
       "      <td>6.24</td>\n",
       "      <td>NaN</td>\n",
       "      <td>200</td>\n",
       "      <td>2</td>\n",
       "      <td>NaN</td>\n",
       "      <td>0.0</td>\n",
       "      <td>media:M3diAproxy@173.44.165.126:80</td>\n",
       "      <td>Y</td>\n",
       "      <td>Free Breakfast</td>\n",
       "      <td>NaN</td>\n",
       "      <td>2019-10-13</td>\n",
       "    </tr>\n",
       "    <tr>\n",
       "      <th>1</th>\n",
       "      <td>50672149</td>\n",
       "      <td>6234691</td>\n",
       "      <td>8328096</td>\n",
       "      <td>5</td>\n",
       "      <td>2019-10-12 15:47:45</td>\n",
       "      <td>2019-11-30</td>\n",
       "      <td>1</td>\n",
       "      <td>1</td>\n",
       "      <td>Vacation Home</td>\n",
       "      <td>636.09</td>\n",
       "      <td>0.00</td>\n",
       "      <td>USD</td>\n",
       "      <td>Shower, Kitchenette, 2 bedrooms, 1 double bed ...</td>\n",
       "      <td>Cancellation policy</td>\n",
       "      <td>https://www.agoda.com/en-gb/pantlleni/hotel/be...</td>\n",
       "      <td>Air conditioning: ;Closet: ;Fireplace: ;Free W...</td>\n",
       "      <td>4</td>\n",
       "      <td>N</td>\n",
       "      <td>N</td>\n",
       "      <td>0.00</td>\n",
       "      <td>NaN</td>\n",
       "      <td>200</td>\n",
       "      <td>2</td>\n",
       "      <td>NaN</td>\n",
       "      <td>0.0</td>\n",
       "      <td>media:M3diAproxy@173.44.164.126:80</td>\n",
       "      <td>Y</td>\n",
       "      <td>NaN</td>\n",
       "      <td>NaN</td>\n",
       "      <td>2019-10-13</td>\n",
       "    </tr>\n",
       "    <tr>\n",
       "      <th>2</th>\n",
       "      <td>50643430</td>\n",
       "      <td>7015677</td>\n",
       "      <td>8323442</td>\n",
       "      <td>5</td>\n",
       "      <td>2019-10-12 15:47:00</td>\n",
       "      <td>2019-12-20</td>\n",
       "      <td>1</td>\n",
       "      <td>1</td>\n",
       "      <td>Vacation Home</td>\n",
       "      <td>591.74</td>\n",
       "      <td>0.00</td>\n",
       "      <td>USD</td>\n",
       "      <td>Shower, Kitchenette, 2 bedrooms, 1 double bed ...</td>\n",
       "      <td>Extra low price! (non-refundable)</td>\n",
       "      <td>https://www.agoda.com/en-gb/willow-cottage/hot...</td>\n",
       "      <td>Air conditioning: ;Closet: ;Dishwasher: ;Firep...</td>\n",
       "      <td>4</td>\n",
       "      <td>N</td>\n",
       "      <td>N</td>\n",
       "      <td>0.00</td>\n",
       "      <td>NaN</td>\n",
       "      <td>200</td>\n",
       "      <td>2</td>\n",
       "      <td>NaN</td>\n",
       "      <td>0.0</td>\n",
       "      <td>media:M3diAproxy@173.44.166.122:80</td>\n",
       "      <td>Y</td>\n",
       "      <td>NaN</td>\n",
       "      <td>NaN</td>\n",
       "      <td>2019-10-13</td>\n",
       "    </tr>\n",
       "    <tr>\n",
       "      <th>3</th>\n",
       "      <td>50650317</td>\n",
       "      <td>7327094</td>\n",
       "      <td>7975</td>\n",
       "      <td>5</td>\n",
       "      <td>2019-10-12 15:47:02</td>\n",
       "      <td>2019-12-28</td>\n",
       "      <td>1</td>\n",
       "      <td>1</td>\n",
       "      <td>Standard Triple Room</td>\n",
       "      <td>881.48</td>\n",
       "      <td>0.00</td>\n",
       "      <td>USD</td>\n",
       "      <td>Room size: 20 m²/215 ft², Shower, 3 single beds</td>\n",
       "      <td>Extra low price! (non-refundable)</td>\n",
       "      <td>https://www.agoda.com/en-gb/apollo-hotel-londo...</td>\n",
       "      <td>Air conditioning: ;Clothes rack: ;Coffee/tea m...</td>\n",
       "      <td>1</td>\n",
       "      <td>N</td>\n",
       "      <td>N</td>\n",
       "      <td>0.00</td>\n",
       "      <td>NaN</td>\n",
       "      <td>200</td>\n",
       "      <td>2</td>\n",
       "      <td>Tax 20%</td>\n",
       "      <td>0.0</td>\n",
       "      <td>media:M3diAproxy@209.242.219.141:80</td>\n",
       "      <td>Y</td>\n",
       "      <td>NaN</td>\n",
       "      <td>NaN</td>\n",
       "      <td>2019-10-13</td>\n",
       "    </tr>\n",
       "    <tr>\n",
       "      <th>4</th>\n",
       "      <td>50650318</td>\n",
       "      <td>7327094</td>\n",
       "      <td>7975</td>\n",
       "      <td>5</td>\n",
       "      <td>2019-10-12 15:47:02</td>\n",
       "      <td>2019-12-28</td>\n",
       "      <td>1</td>\n",
       "      <td>1</td>\n",
       "      <td>Standard Triple Room</td>\n",
       "      <td>897.53</td>\n",
       "      <td>0.00</td>\n",
       "      <td>USD</td>\n",
       "      <td>Room size: 20 m²/215 ft², Shower, 3 single beds</td>\n",
       "      <td>Extra low price! (non-refundable)</td>\n",
       "      <td>https://www.agoda.com/en-gb/apollo-hotel-londo...</td>\n",
       "      <td>Air conditioning: ;Clothes rack: ;Coffee/tea m...</td>\n",
       "      <td>3</td>\n",
       "      <td>N</td>\n",
       "      <td>N</td>\n",
       "      <td>0.00</td>\n",
       "      <td>NaN</td>\n",
       "      <td>200</td>\n",
       "      <td>2</td>\n",
       "      <td>VAT $ 179.51</td>\n",
       "      <td>0.0</td>\n",
       "      <td>media:M3diAproxy@209.242.219.141:80</td>\n",
       "      <td>Y</td>\n",
       "      <td>Free breakfast for {3}</td>\n",
       "      <td>NaN</td>\n",
       "      <td>2019-10-13</td>\n",
       "    </tr>\n",
       "  </tbody>\n",
       "</table>\n",
       "</div>"
      ],
      "text/plain": [
       "         id    refid  hotelcode  websitecode          dtcollected    ratedate  \\\n",
       "0  50677497  8646773     634876            5  2019-10-12 15:46:54  2019-11-02   \n",
       "1  50672149  6234691    8328096            5  2019-10-12 15:47:45  2019-11-30   \n",
       "2  50643430  7015677    8323442            5  2019-10-12 15:47:00  2019-12-20   \n",
       "3  50650317  7327094       7975            5  2019-10-12 15:47:02  2019-12-28   \n",
       "4  50650318  7327094       7975            5  2019-10-12 15:47:02  2019-12-28   \n",
       "\n",
       "   los  guests              roomtype  onsiterate  netrate currency  \\\n",
       "0    1       1           Double Room       82.36    87.84      USD   \n",
       "1    1       1         Vacation Home      636.09     0.00      USD   \n",
       "2    1       1         Vacation Home      591.74     0.00      USD   \n",
       "3    1       1  Standard Triple Room      881.48     0.00      USD   \n",
       "4    1       1  Standard Triple Room      897.53     0.00      USD   \n",
       "\n",
       "                                     ratedescription  \\\n",
       "0       Room size: 15 m²/161 ft², Shower, 1 king bed   \n",
       "1  Shower, Kitchenette, 2 bedrooms, 1 double bed ...   \n",
       "2  Shower, Kitchenette, 2 bedrooms, 1 double bed ...   \n",
       "3    Room size: 20 m²/215 ft², Shower, 3 single beds   \n",
       "4    Room size: 20 m²/215 ft², Shower, 3 single beds   \n",
       "\n",
       "                            ratetype  \\\n",
       "0                Cancellation policy   \n",
       "1                Cancellation policy   \n",
       "2  Extra low price! (non-refundable)   \n",
       "3  Extra low price! (non-refundable)   \n",
       "4  Extra low price! (non-refundable)   \n",
       "\n",
       "                                           sourceurl  \\\n",
       "0  https://www.agoda.com/en-gb/the-old-cider-hous...   \n",
       "1  https://www.agoda.com/en-gb/pantlleni/hotel/be...   \n",
       "2  https://www.agoda.com/en-gb/willow-cottage/hot...   \n",
       "3  https://www.agoda.com/en-gb/apollo-hotel-londo...   \n",
       "4  https://www.agoda.com/en-gb/apollo-hotel-londo...   \n",
       "\n",
       "                                       roomamenities  maxoccupancy ispromo  \\\n",
       "0  Air conditioning: ;Alarm clock: ;Carpeting: ;C...             1       Y   \n",
       "1  Air conditioning: ;Closet: ;Fireplace: ;Free W...             4       N   \n",
       "2  Air conditioning: ;Closet: ;Dishwasher: ;Firep...             4       N   \n",
       "3  Air conditioning: ;Clothes rack: ;Coffee/tea m...             1       N   \n",
       "4  Air conditioning: ;Clothes rack: ;Coffee/tea m...             3       N   \n",
       "\n",
       "  closed  discount promoname  status_code  taxstatus       taxtype  taxamount  \\\n",
       "0      N      6.24       NaN          200          2           NaN        0.0   \n",
       "1      N      0.00       NaN          200          2           NaN        0.0   \n",
       "2      N      0.00       NaN          200          2           NaN        0.0   \n",
       "3      N      0.00       NaN          200          2       Tax 20%        0.0   \n",
       "4      N      0.00       NaN          200          2  VAT $ 179.51        0.0   \n",
       "\n",
       "                             proxyused israteperstay       mealinclusiontype  \\\n",
       "0   media:M3diAproxy@173.44.165.126:80             Y          Free Breakfast   \n",
       "1   media:M3diAproxy@173.44.164.126:80             Y                     NaN   \n",
       "2   media:M3diAproxy@173.44.166.122:80             Y                     NaN   \n",
       "3  media:M3diAproxy@209.242.219.141:80             Y                     NaN   \n",
       "4  media:M3diAproxy@209.242.219.141:80             Y  Free breakfast for {3}   \n",
       "\n",
       "  hotelblock input_dtcollected  \n",
       "0        NaN        2019-10-13  \n",
       "1        NaN        2019-10-13  \n",
       "2        NaN        2019-10-13  \n",
       "3        NaN        2019-10-13  \n",
       "4        NaN        2019-10-13  "
      ]
     },
     "execution_count": 81,
     "metadata": {},
     "output_type": "execute_result"
    }
   ],
   "source": [
    "df4.head()"
   ]
  },
  {
   "cell_type": "code",
   "execution_count": 82,
   "id": "13b6ea6e-bf36-4701-af0b-aa5d913e205d",
   "metadata": {},
   "outputs": [],
   "source": [
    "df6 = df_new.merge(df3,on = 'hotelid')"
   ]
  },
  {
   "cell_type": "code",
   "execution_count": 83,
   "id": "9762dd4e-5206-4932-b066-b73e06c32cab",
   "metadata": {},
   "outputs": [
    {
     "data": {
      "text/plain": [
       "np.int64(0)"
      ]
     },
     "execution_count": 83,
     "metadata": {},
     "output_type": "execute_result"
    }
   ],
   "source": [
    "df6.duplicated().sum()"
   ]
  },
  {
   "cell_type": "markdown",
   "id": "6155bac5-56e3-414c-860a-ba11dbb263b5",
   "metadata": {},
   "source": [
    "will change the data frame name again to df "
   ]
  },
  {
   "cell_type": "code",
   "execution_count": 84,
   "id": "d1f97110-9381-46c2-b0b0-56f330c680e2",
   "metadata": {},
   "outputs": [],
   "source": [
    "df = df6"
   ]
  },
  {
   "cell_type": "code",
   "execution_count": 85,
   "id": "d6ba4f9c-de77-4e8e-9dac-3231bae01dc3",
   "metadata": {},
   "outputs": [
    {
     "data": {
      "text/html": [
       "<div>\n",
       "<style scoped>\n",
       "    .dataframe tbody tr th:only-of-type {\n",
       "        vertical-align: middle;\n",
       "    }\n",
       "\n",
       "    .dataframe tbody tr th {\n",
       "        vertical-align: top;\n",
       "    }\n",
       "\n",
       "    .dataframe thead th {\n",
       "        text-align: right;\n",
       "    }\n",
       "</style>\n",
       "<table border=\"1\" class=\"dataframe\">\n",
       "  <thead>\n",
       "    <tr style=\"text-align: right;\">\n",
       "      <th></th>\n",
       "      <th>id_x</th>\n",
       "      <th>hotelid</th>\n",
       "      <th>roomamenities</th>\n",
       "      <th>roomtype</th>\n",
       "      <th>ratedescription</th>\n",
       "      <th>id_y</th>\n",
       "      <th>hotelname</th>\n",
       "      <th>address</th>\n",
       "      <th>city</th>\n",
       "      <th>country</th>\n",
       "      <th>propertytype</th>\n",
       "      <th>starrating</th>\n",
       "      <th>latitude</th>\n",
       "      <th>longitude</th>\n",
       "      <th>Source</th>\n",
       "      <th>url</th>\n",
       "      <th>curr</th>\n",
       "      <th>min</th>\n",
       "      <th>max</th>\n",
       "      <th>Diff_Min</th>\n",
       "      <th>Diff_Max</th>\n",
       "      <th>Score</th>\n",
       "    </tr>\n",
       "  </thead>\n",
       "  <tbody>\n",
       "    <tr>\n",
       "      <th>0</th>\n",
       "      <td>50677497</td>\n",
       "      <td>634876</td>\n",
       "      <td>Air conditioning: ;Alarm clock: ;Carpeting: ;C...</td>\n",
       "      <td>Double Room</td>\n",
       "      <td>Room size: 15 m²/161 ft², Shower, 1 king bed</td>\n",
       "      <td>135972</td>\n",
       "      <td>The Old Cider House</td>\n",
       "      <td>25 Castle Street</td>\n",
       "      <td>Nether Stowey</td>\n",
       "      <td>United Kingdom</td>\n",
       "      <td>Hotels</td>\n",
       "      <td>4</td>\n",
       "      <td>51.150921</td>\n",
       "      <td>-3.158470</td>\n",
       "      <td>5</td>\n",
       "      <td>https://www.agoda.com/en-gb/the-old-cider-hous...</td>\n",
       "      <td>GBP</td>\n",
       "      <td>82.36</td>\n",
       "      <td>107.70</td>\n",
       "      <td>0.084</td>\n",
       "      <td>0.418</td>\n",
       "      <td>0.25</td>\n",
       "    </tr>\n",
       "    <tr>\n",
       "      <th>1</th>\n",
       "      <td>50650317</td>\n",
       "      <td>7975</td>\n",
       "      <td>Air conditioning: ;Clothes rack: ;Coffee/tea m...</td>\n",
       "      <td>Standard Triple Room</td>\n",
       "      <td>Room size: 20 m²/215 ft², Shower, 3 single beds</td>\n",
       "      <td>60309</td>\n",
       "      <td>Apollo Hotel London</td>\n",
       "      <td>64-66 Queensborough Terrace</td>\n",
       "      <td>London</td>\n",
       "      <td>United Kingdom</td>\n",
       "      <td>Hotels</td>\n",
       "      <td>2</td>\n",
       "      <td>51.511234</td>\n",
       "      <td>-0.185117</td>\n",
       "      <td>5</td>\n",
       "      <td>https://www.agoda.com/en-gb/apollo-hotel-londo...</td>\n",
       "      <td>GBP</td>\n",
       "      <td>881.48</td>\n",
       "      <td>1055.92</td>\n",
       "      <td>7.540</td>\n",
       "      <td>2.821</td>\n",
       "      <td>5.18</td>\n",
       "    </tr>\n",
       "    <tr>\n",
       "      <th>2</th>\n",
       "      <td>50650318</td>\n",
       "      <td>7975</td>\n",
       "      <td>Air conditioning: ;Clothes rack: ;Coffee/tea m...</td>\n",
       "      <td>Standard Triple Room</td>\n",
       "      <td>Room size: 20 m²/215 ft², Shower, 3 single beds</td>\n",
       "      <td>60309</td>\n",
       "      <td>Apollo Hotel London</td>\n",
       "      <td>64-66 Queensborough Terrace</td>\n",
       "      <td>London</td>\n",
       "      <td>United Kingdom</td>\n",
       "      <td>Hotels</td>\n",
       "      <td>2</td>\n",
       "      <td>51.511234</td>\n",
       "      <td>-0.185117</td>\n",
       "      <td>5</td>\n",
       "      <td>https://www.agoda.com/en-gb/apollo-hotel-londo...</td>\n",
       "      <td>GBP</td>\n",
       "      <td>881.48</td>\n",
       "      <td>1055.92</td>\n",
       "      <td>7.540</td>\n",
       "      <td>2.821</td>\n",
       "      <td>5.18</td>\n",
       "    </tr>\n",
       "    <tr>\n",
       "      <th>3</th>\n",
       "      <td>50650319</td>\n",
       "      <td>7975</td>\n",
       "      <td>Air conditioning: ;Clothes rack: ;Coffee/tea m...</td>\n",
       "      <td>Standard Triple Room</td>\n",
       "      <td>Room size: 20 m²/215 ft², Shower, 3 single beds</td>\n",
       "      <td>60309</td>\n",
       "      <td>Apollo Hotel London</td>\n",
       "      <td>64-66 Queensborough Terrace</td>\n",
       "      <td>London</td>\n",
       "      <td>United Kingdom</td>\n",
       "      <td>Hotels</td>\n",
       "      <td>2</td>\n",
       "      <td>51.511234</td>\n",
       "      <td>-0.185117</td>\n",
       "      <td>5</td>\n",
       "      <td>https://www.agoda.com/en-gb/apollo-hotel-londo...</td>\n",
       "      <td>GBP</td>\n",
       "      <td>881.48</td>\n",
       "      <td>1055.92</td>\n",
       "      <td>7.540</td>\n",
       "      <td>2.821</td>\n",
       "      <td>5.18</td>\n",
       "    </tr>\n",
       "    <tr>\n",
       "      <th>4</th>\n",
       "      <td>50650320</td>\n",
       "      <td>7975</td>\n",
       "      <td>Air conditioning: ;Clothes rack: ;Heating: ;In...</td>\n",
       "      <td>Deluxe Triple Room</td>\n",
       "      <td>Shower, 1 single bed and 1 double bed</td>\n",
       "      <td>60309</td>\n",
       "      <td>Apollo Hotel London</td>\n",
       "      <td>64-66 Queensborough Terrace</td>\n",
       "      <td>London</td>\n",
       "      <td>United Kingdom</td>\n",
       "      <td>Hotels</td>\n",
       "      <td>2</td>\n",
       "      <td>51.511234</td>\n",
       "      <td>-0.185117</td>\n",
       "      <td>5</td>\n",
       "      <td>https://www.agoda.com/en-gb/apollo-hotel-londo...</td>\n",
       "      <td>GBP</td>\n",
       "      <td>881.48</td>\n",
       "      <td>1055.92</td>\n",
       "      <td>7.540</td>\n",
       "      <td>2.821</td>\n",
       "      <td>5.18</td>\n",
       "    </tr>\n",
       "  </tbody>\n",
       "</table>\n",
       "</div>"
      ],
      "text/plain": [
       "       id_x  hotelid                                      roomamenities  \\\n",
       "0  50677497   634876  Air conditioning: ;Alarm clock: ;Carpeting: ;C...   \n",
       "1  50650317     7975  Air conditioning: ;Clothes rack: ;Coffee/tea m...   \n",
       "2  50650318     7975  Air conditioning: ;Clothes rack: ;Coffee/tea m...   \n",
       "3  50650319     7975  Air conditioning: ;Clothes rack: ;Coffee/tea m...   \n",
       "4  50650320     7975  Air conditioning: ;Clothes rack: ;Heating: ;In...   \n",
       "\n",
       "               roomtype                                  ratedescription  \\\n",
       "0           Double Room     Room size: 15 m²/161 ft², Shower, 1 king bed   \n",
       "1  Standard Triple Room  Room size: 20 m²/215 ft², Shower, 3 single beds   \n",
       "2  Standard Triple Room  Room size: 20 m²/215 ft², Shower, 3 single beds   \n",
       "3  Standard Triple Room  Room size: 20 m²/215 ft², Shower, 3 single beds   \n",
       "4    Deluxe Triple Room            Shower, 1 single bed and 1 double bed   \n",
       "\n",
       "     id_y            hotelname                      address           city  \\\n",
       "0  135972  The Old Cider House             25 Castle Street  Nether Stowey   \n",
       "1   60309  Apollo Hotel London  64-66 Queensborough Terrace         London   \n",
       "2   60309  Apollo Hotel London  64-66 Queensborough Terrace         London   \n",
       "3   60309  Apollo Hotel London  64-66 Queensborough Terrace         London   \n",
       "4   60309  Apollo Hotel London  64-66 Queensborough Terrace         London   \n",
       "\n",
       "          country propertytype  starrating   latitude  longitude  Source  \\\n",
       "0  United Kingdom       Hotels           4  51.150921  -3.158470       5   \n",
       "1  United Kingdom       Hotels           2  51.511234  -0.185117       5   \n",
       "2  United Kingdom       Hotels           2  51.511234  -0.185117       5   \n",
       "3  United Kingdom       Hotels           2  51.511234  -0.185117       5   \n",
       "4  United Kingdom       Hotels           2  51.511234  -0.185117       5   \n",
       "\n",
       "                                                 url curr     min      max  \\\n",
       "0  https://www.agoda.com/en-gb/the-old-cider-hous...  GBP   82.36   107.70   \n",
       "1  https://www.agoda.com/en-gb/apollo-hotel-londo...  GBP  881.48  1055.92   \n",
       "2  https://www.agoda.com/en-gb/apollo-hotel-londo...  GBP  881.48  1055.92   \n",
       "3  https://www.agoda.com/en-gb/apollo-hotel-londo...  GBP  881.48  1055.92   \n",
       "4  https://www.agoda.com/en-gb/apollo-hotel-londo...  GBP  881.48  1055.92   \n",
       "\n",
       "   Diff_Min  Diff_Max  Score  \n",
       "0     0.084     0.418   0.25  \n",
       "1     7.540     2.821   5.18  \n",
       "2     7.540     2.821   5.18  \n",
       "3     7.540     2.821   5.18  \n",
       "4     7.540     2.821   5.18  "
      ]
     },
     "execution_count": 85,
     "metadata": {},
     "output_type": "execute_result"
    }
   ],
   "source": [
    "df.head()"
   ]
  },
  {
   "cell_type": "code",
   "execution_count": 86,
   "id": "f6e7bf45-b97e-4940-8c7f-e51e82e1bc1a",
   "metadata": {},
   "outputs": [
    {
     "data": {
      "text/plain": [
       "(175544, 22)"
      ]
     },
     "execution_count": 86,
     "metadata": {},
     "output_type": "execute_result"
    }
   ],
   "source": [
    "df.shape"
   ]
  },
  {
   "cell_type": "code",
   "execution_count": 87,
   "id": "3c74aa30-db02-4b83-b975-ea7aca1dbe6c",
   "metadata": {},
   "outputs": [],
   "source": [
    "df.drop(['id_y','latitude','longitude','Source','curr'],axis = 1,inplace = True)"
   ]
  },
  {
   "cell_type": "code",
   "execution_count": 88,
   "id": "c1b7744e-f932-4c45-9ce8-04335f8acff7",
   "metadata": {},
   "outputs": [],
   "source": [
    "df.rename(columns = {'id_x':'id'},inplace = True)"
   ]
  },
  {
   "cell_type": "code",
   "execution_count": 89,
   "id": "b11e9efd-22bd-433e-82c3-0385a5ccca95",
   "metadata": {},
   "outputs": [
    {
     "data": {
      "text/plain": [
       "np.int64(0)"
      ]
     },
     "execution_count": 89,
     "metadata": {},
     "output_type": "execute_result"
    }
   ],
   "source": [
    "df.duplicated().sum()"
   ]
  },
  {
   "cell_type": "code",
   "execution_count": 90,
   "id": "8b8faf0f-ff00-45b4-b8a3-0ea7352941e5",
   "metadata": {},
   "outputs": [],
   "source": [
    "indices = df[df['id'].duplicated()].index"
   ]
  },
  {
   "cell_type": "code",
   "execution_count": 91,
   "id": "c0a92c91-09f3-4291-8e3c-13fbb1ac827b",
   "metadata": {},
   "outputs": [],
   "source": [
    "df.drop(index = indices,inplace = True)"
   ]
  },
  {
   "cell_type": "code",
   "execution_count": 92,
   "id": "63a5735e-6425-4de1-a6e2-a786a2a8f5c1",
   "metadata": {},
   "outputs": [
    {
     "data": {
      "text/plain": [
       "np.int64(0)"
      ]
     },
     "execution_count": 92,
     "metadata": {},
     "output_type": "execute_result"
    }
   ],
   "source": [
    "df['id'].duplicated().sum()"
   ]
  },
  {
   "cell_type": "code",
   "execution_count": 93,
   "id": "4ebb3de1-135d-4d47-9e12-d616ac69dd33",
   "metadata": {},
   "outputs": [
    {
     "data": {
      "text/plain": [
       "(160438, 17)"
      ]
     },
     "execution_count": 93,
     "metadata": {},
     "output_type": "execute_result"
    }
   ],
   "source": [
    "df.shape"
   ]
  },
  {
   "cell_type": "code",
   "execution_count": 94,
   "id": "e3f251df-0036-415e-bec2-16e30cb1e070",
   "metadata": {},
   "outputs": [
    {
     "data": {
      "text/plain": [
       "np.int64(0)"
      ]
     },
     "execution_count": 94,
     "metadata": {},
     "output_type": "execute_result"
    }
   ],
   "source": [
    "df.duplicated().sum()"
   ]
  },
  {
   "cell_type": "markdown",
   "id": "cad22088-d483-46f3-a588-f0088f48f47c",
   "metadata": {},
   "source": [
    "Data Cleaning"
   ]
  },
  {
   "cell_type": "markdown",
   "id": "c18206f2-5d38-41c0-85a9-36c60b74ba74",
   "metadata": {},
   "source": [
    "Removing whitespaces is necessary for our the recommendation so that it treats the entire word as one single entity"
   ]
  },
  {
   "cell_type": "code",
   "execution_count": 95,
   "id": "6ff6bc68-1bf0-4750-a42d-2f676b337160",
   "metadata": {},
   "outputs": [],
   "source": [
    "def remove_whitespace(text):\n",
    "   return  text.replace(' ','')"
   ]
  },
  {
   "cell_type": "code",
   "execution_count": 96,
   "id": "da47c38b-8cb5-468b-a898-3c095527eb5a",
   "metadata": {},
   "outputs": [
    {
     "data": {
      "text/plain": [
       "'Air conditioning: ;Alarm clock: ;Carpeting: ;Closet: ;Coffee/tea maker: ;Desk: ;DVD/CD player: ;Fan: ;Free Wi-Fi in all rooms!: ;Hair dryer: ;Heating: ;In-room safe box: ;Ironing facilities: ;Linens: ;Mini bar: ;Seating area: ;Toiletries: ;Towels: ;TV [flat screen]: ;'"
      ]
     },
     "execution_count": 96,
     "metadata": {},
     "output_type": "execute_result"
    }
   ],
   "source": [
    "df['roomamenities'][0]"
   ]
  },
  {
   "cell_type": "code",
   "execution_count": 97,
   "id": "a7d4e35d-3f8b-4227-a48e-6c9a76bb89f8",
   "metadata": {},
   "outputs": [],
   "source": [
    "df['roomamenities_tag'] = df['roomamenities'].apply(lambda x:x.replace(': ;',','))"
   ]
  },
  {
   "cell_type": "code",
   "execution_count": 98,
   "id": "948dd9ea-d5fe-4466-9f80-0338a34411a1",
   "metadata": {},
   "outputs": [],
   "source": [
    "df['roomamenities_tag'] = df['roomamenities_tag'].apply(remove_whitespace)"
   ]
  },
  {
   "cell_type": "code",
   "execution_count": 99,
   "id": "e9a4795c-e668-4e2c-9fb0-381cb14d9a67",
   "metadata": {},
   "outputs": [],
   "source": [
    "df['roomamenities_tag'] = df['roomamenities_tag'].apply(lambda x:x.split(','))"
   ]
  },
  {
   "cell_type": "code",
   "execution_count": 100,
   "id": "9d7fd497-20ad-4aa0-9552-e755e7840d89",
   "metadata": {},
   "outputs": [
    {
     "data": {
      "text/plain": [
       "['Airconditioning',\n",
       " 'FreeWi-Fiinallrooms!',\n",
       " 'In-roomsafebox',\n",
       " 'Shower',\n",
       " 'Telephone',\n",
       " 'TV',\n",
       " '']"
      ]
     },
     "execution_count": 100,
     "metadata": {},
     "output_type": "execute_result"
    }
   ],
   "source": [
    "df['roomamenities_tag'][66069]"
   ]
  },
  {
   "cell_type": "code",
   "execution_count": 101,
   "id": "129678ab-ec8c-4149-9ff4-0daea33232a2",
   "metadata": {},
   "outputs": [
    {
     "data": {
      "text/plain": [
       "0                  Double Room\n",
       "1         Standard Triple Room\n",
       "2         Standard Triple Room\n",
       "3         Standard Triple Room\n",
       "4           Deluxe Triple Room\n",
       "                  ...         \n",
       "175539               Twin Room\n",
       "175540               Twin Room\n",
       "175541               Twin Room\n",
       "175542           Twin Standard\n",
       "175543         Double Standard\n",
       "Name: roomtype, Length: 160438, dtype: object"
      ]
     },
     "execution_count": 101,
     "metadata": {},
     "output_type": "execute_result"
    }
   ],
   "source": [
    "df['roomtype']"
   ]
  },
  {
   "cell_type": "code",
   "execution_count": 102,
   "id": "9f29be36-c3a0-41b5-8782-42523209abef",
   "metadata": {},
   "outputs": [],
   "source": [
    "df['roomtype_tag'] = df['roomtype'].apply(remove_whitespace)"
   ]
  },
  {
   "cell_type": "code",
   "execution_count": 103,
   "id": "29754f34-93ee-4cbf-964b-03e0ae477e64",
   "metadata": {},
   "outputs": [],
   "source": [
    "df['roomtype_tag'] =  df['roomtype_tag'].apply(lambda x:[x])\n"
   ]
  },
  {
   "cell_type": "code",
   "execution_count": 104,
   "id": "95f35d25-ed42-47a9-a685-43a819611aa9",
   "metadata": {},
   "outputs": [
    {
     "data": {
      "text/plain": [
       "['Budgetdouble(nowindow)']"
      ]
     },
     "execution_count": 104,
     "metadata": {},
     "output_type": "execute_result"
    }
   ],
   "source": [
    "df['roomtype_tag'][66070]"
   ]
  },
  {
   "cell_type": "markdown",
   "id": "b5a96803-1811-45e9-b143-3bed1c7b0eb5",
   "metadata": {},
   "source": [
    "Ratedescription"
   ]
  },
  {
   "cell_type": "code",
   "execution_count": 105,
   "id": "98b52fae-8946-4fde-9add-74926de9e1a2",
   "metadata": {},
   "outputs": [
    {
     "data": {
      "text/plain": [
       "0              Room size: 15 m²/161 ft², Shower, 1 king bed\n",
       "1           Room size: 20 m²/215 ft², Shower, 3 single beds\n",
       "2           Room size: 20 m²/215 ft², Shower, 3 single beds\n",
       "3           Room size: 20 m²/215 ft², Shower, 3 single beds\n",
       "4                     Shower, 1 single bed and 1 double bed\n",
       "                                ...                        \n",
       "175539    Room size: 17 m²/183 ft², Non-smoking, Shower,...\n",
       "175540    Room size: 17 m²/183 ft², Non-smoking, Shower,...\n",
       "175541    Room size: 17 m²/183 ft², Non-smoking, Shower,...\n",
       "175542    Pay nothing until November 21, 2019, Free Wi-F...\n",
       "175543    Pay nothing until November 21, 2019, Free Wi-F...\n",
       "Name: ratedescription, Length: 160438, dtype: object"
      ]
     },
     "execution_count": 105,
     "metadata": {},
     "output_type": "execute_result"
    }
   ],
   "source": [
    "df['ratedescription']"
   ]
  },
  {
   "cell_type": "markdown",
   "id": "d1e1b831-5a9b-4808-b630-d3e2f9536e12",
   "metadata": {},
   "source": [
    "We can remove room size. Because it wont give an big impact on recommending hotel rooms"
   ]
  },
  {
   "cell_type": "code",
   "execution_count": 106,
   "id": "624abf55-6331-4534-82c3-7b23a56c49d7",
   "metadata": {},
   "outputs": [],
   "source": [
    "import re\n",
    "\n",
    "def transform(text):\n",
    "    return re.sub(r'Room size: \\d+ m²/\\d+ ft², ','',text)"
   ]
  },
  {
   "cell_type": "code",
   "execution_count": 107,
   "id": "8cfa72be-3e82-4b18-bbfd-ef95135ad773",
   "metadata": {},
   "outputs": [],
   "source": [
    "df['ratedescription_tag'] = df['ratedescription'].apply(transform)"
   ]
  },
  {
   "cell_type": "code",
   "execution_count": 108,
   "id": "70def09e-ad2a-4513-ae24-4a336c95191e",
   "metadata": {},
   "outputs": [],
   "source": [
    "df['ratedescription_tag'] = df['ratedescription_tag'].apply(remove_whitespace)"
   ]
  },
  {
   "cell_type": "code",
   "execution_count": 109,
   "id": "6394a40e-efac-4781-8cd5-9b7e819eaa1f",
   "metadata": {},
   "outputs": [],
   "source": [
    "df['ratedescription_tag'] = df['ratedescription_tag'].apply(lambda x:x.split(','))"
   ]
  },
  {
   "cell_type": "markdown",
   "id": "3cbc871f-c803-4eef-bb10-7c8dcf9f06ed",
   "metadata": {},
   "source": [
    " address"
   ]
  },
  {
   "cell_type": "code",
   "execution_count": 110,
   "id": "84e5e112-46a7-411e-b460-c2a967071b8e",
   "metadata": {},
   "outputs": [
    {
     "data": {
      "text/plain": [
       "8435"
      ]
     },
     "execution_count": 110,
     "metadata": {},
     "output_type": "execute_result"
    }
   ],
   "source": [
    "df['address'].nunique()"
   ]
  },
  {
   "cell_type": "code",
   "execution_count": 111,
   "id": "50a6ef5e-4964-47ed-bf27-a0083dc4d038",
   "metadata": {},
   "outputs": [],
   "source": [
    "df['address_tag'] = df['address'].apply(remove_whitespace)"
   ]
  },
  {
   "cell_type": "code",
   "execution_count": 112,
   "id": "9c9600f5-1ad1-4b83-932c-3d701949a8e1",
   "metadata": {},
   "outputs": [],
   "source": [
    "df['address_tag'] = df['address_tag'].apply(lambda x:x.split())"
   ]
  },
  {
   "cell_type": "markdown",
   "id": "a1bfaa1f-6661-429f-9eaa-fe8ba6376a86",
   "metadata": {},
   "source": [
    "City"
   ]
  },
  {
   "cell_type": "code",
   "execution_count": 113,
   "id": "f4bfb763-9fc5-4a20-963d-9a88ce0fe147",
   "metadata": {},
   "outputs": [],
   "source": [
    "df['city_tag'] = df['city'].apply(remove_whitespace)"
   ]
  },
  {
   "cell_type": "code",
   "execution_count": 114,
   "id": "d247d53d-ee80-49cd-8b10-501dcefffbbe",
   "metadata": {},
   "outputs": [],
   "source": [
    "df['city_tag'] = df['city_tag'].apply(lambda x:x.split())\n"
   ]
  },
  {
   "cell_type": "code",
   "execution_count": 115,
   "id": "dc92cb30-cda8-4148-807f-cfa068f69da6",
   "metadata": {},
   "outputs": [
    {
     "data": {
      "text/plain": [
       "0                [NetherStowey]\n",
       "1                      [London]\n",
       "2                      [London]\n",
       "3                      [London]\n",
       "4                      [London]\n",
       "                  ...          \n",
       "175539    [Newcastle-upon-Tyne]\n",
       "175540    [Newcastle-upon-Tyne]\n",
       "175541    [Newcastle-upon-Tyne]\n",
       "175542    [Newcastle-upon-Tyne]\n",
       "175543    [Newcastle-upon-Tyne]\n",
       "Name: city_tag, Length: 160438, dtype: object"
      ]
     },
     "execution_count": 115,
     "metadata": {},
     "output_type": "execute_result"
    }
   ],
   "source": [
    "df['city_tag']\n"
   ]
  },
  {
   "cell_type": "markdown",
   "id": "c36da800-4e50-449e-88d8-ec2e286c7a27",
   "metadata": {},
   "source": [
    "Country"
   ]
  },
  {
   "cell_type": "code",
   "execution_count": 116,
   "id": "79903e39-62bb-4382-b29c-af9580f60e92",
   "metadata": {},
   "outputs": [],
   "source": [
    "df['country_tag'] = df['country'].apply(remove_whitespace)"
   ]
  },
  {
   "cell_type": "code",
   "execution_count": 117,
   "id": "67971523-73f7-49fe-a50a-62acd885fc50",
   "metadata": {},
   "outputs": [],
   "source": [
    "df['country_tag'] = df['country_tag'].apply(lambda x:x.split())"
   ]
  },
  {
   "cell_type": "code",
   "execution_count": 118,
   "id": "49f17b8f-da62-4f15-a47a-b52de0a7392f",
   "metadata": {},
   "outputs": [
    {
     "data": {
      "text/plain": [
       "0         [UnitedKingdom]\n",
       "1         [UnitedKingdom]\n",
       "2         [UnitedKingdom]\n",
       "3         [UnitedKingdom]\n",
       "4         [UnitedKingdom]\n",
       "               ...       \n",
       "175539    [UnitedKingdom]\n",
       "175540    [UnitedKingdom]\n",
       "175541    [UnitedKingdom]\n",
       "175542    [UnitedKingdom]\n",
       "175543    [UnitedKingdom]\n",
       "Name: country_tag, Length: 160438, dtype: object"
      ]
     },
     "execution_count": 118,
     "metadata": {},
     "output_type": "execute_result"
    }
   ],
   "source": [
    "df['country_tag'] "
   ]
  },
  {
   "cell_type": "markdown",
   "id": "f49d1222-bc39-425b-bf8d-87358f007af6",
   "metadata": {},
   "source": [
    "Propertytype"
   ]
  },
  {
   "cell_type": "code",
   "execution_count": 119,
   "id": "263bc5b2-ca0a-43ee-a528-70b801d46164",
   "metadata": {},
   "outputs": [],
   "source": [
    "df['propertytype_tag'] = df['propertytype'].apply(remove_whitespace)"
   ]
  },
  {
   "cell_type": "code",
   "execution_count": 120,
   "id": "ba0f0387-e52a-46a0-a091-cbe84f45a129",
   "metadata": {},
   "outputs": [],
   "source": [
    "df['propertytype_tag'] = df['propertytype_tag'].apply(lambda x:x.split())"
   ]
  },
  {
   "cell_type": "code",
   "execution_count": 121,
   "id": "8cb600ae-883f-4022-8b96-be903173b24f",
   "metadata": {},
   "outputs": [
    {
     "data": {
      "text/html": [
       "<div>\n",
       "<style scoped>\n",
       "    .dataframe tbody tr th:only-of-type {\n",
       "        vertical-align: middle;\n",
       "    }\n",
       "\n",
       "    .dataframe tbody tr th {\n",
       "        vertical-align: top;\n",
       "    }\n",
       "\n",
       "    .dataframe thead th {\n",
       "        text-align: right;\n",
       "    }\n",
       "</style>\n",
       "<table border=\"1\" class=\"dataframe\">\n",
       "  <thead>\n",
       "    <tr style=\"text-align: right;\">\n",
       "      <th></th>\n",
       "      <th>id</th>\n",
       "      <th>hotelid</th>\n",
       "      <th>roomamenities</th>\n",
       "      <th>roomtype</th>\n",
       "      <th>ratedescription</th>\n",
       "      <th>hotelname</th>\n",
       "      <th>address</th>\n",
       "      <th>city</th>\n",
       "      <th>country</th>\n",
       "      <th>propertytype</th>\n",
       "      <th>starrating</th>\n",
       "      <th>url</th>\n",
       "      <th>min</th>\n",
       "      <th>max</th>\n",
       "      <th>Diff_Min</th>\n",
       "      <th>Diff_Max</th>\n",
       "      <th>Score</th>\n",
       "      <th>roomamenities_tag</th>\n",
       "      <th>roomtype_tag</th>\n",
       "      <th>ratedescription_tag</th>\n",
       "      <th>address_tag</th>\n",
       "      <th>city_tag</th>\n",
       "      <th>country_tag</th>\n",
       "      <th>propertytype_tag</th>\n",
       "    </tr>\n",
       "  </thead>\n",
       "  <tbody>\n",
       "    <tr>\n",
       "      <th>0</th>\n",
       "      <td>50677497</td>\n",
       "      <td>634876</td>\n",
       "      <td>Air conditioning: ;Alarm clock: ;Carpeting: ;C...</td>\n",
       "      <td>Double Room</td>\n",
       "      <td>Room size: 15 m²/161 ft², Shower, 1 king bed</td>\n",
       "      <td>The Old Cider House</td>\n",
       "      <td>25 Castle Street</td>\n",
       "      <td>Nether Stowey</td>\n",
       "      <td>United Kingdom</td>\n",
       "      <td>Hotels</td>\n",
       "      <td>4</td>\n",
       "      <td>https://www.agoda.com/en-gb/the-old-cider-hous...</td>\n",
       "      <td>82.36</td>\n",
       "      <td>107.70</td>\n",
       "      <td>0.084</td>\n",
       "      <td>0.418</td>\n",
       "      <td>0.25</td>\n",
       "      <td>[Airconditioning, Alarmclock, Carpeting, Close...</td>\n",
       "      <td>[DoubleRoom]</td>\n",
       "      <td>[Shower, 1kingbed]</td>\n",
       "      <td>[25CastleStreet]</td>\n",
       "      <td>[NetherStowey]</td>\n",
       "      <td>[UnitedKingdom]</td>\n",
       "      <td>[Hotels]</td>\n",
       "    </tr>\n",
       "    <tr>\n",
       "      <th>1</th>\n",
       "      <td>50650317</td>\n",
       "      <td>7975</td>\n",
       "      <td>Air conditioning: ;Clothes rack: ;Coffee/tea m...</td>\n",
       "      <td>Standard Triple Room</td>\n",
       "      <td>Room size: 20 m²/215 ft², Shower, 3 single beds</td>\n",
       "      <td>Apollo Hotel London</td>\n",
       "      <td>64-66 Queensborough Terrace</td>\n",
       "      <td>London</td>\n",
       "      <td>United Kingdom</td>\n",
       "      <td>Hotels</td>\n",
       "      <td>2</td>\n",
       "      <td>https://www.agoda.com/en-gb/apollo-hotel-londo...</td>\n",
       "      <td>881.48</td>\n",
       "      <td>1055.92</td>\n",
       "      <td>7.540</td>\n",
       "      <td>2.821</td>\n",
       "      <td>5.18</td>\n",
       "      <td>[Airconditioning, Clothesrack, Coffee/teamaker...</td>\n",
       "      <td>[StandardTripleRoom]</td>\n",
       "      <td>[Shower, 3singlebeds]</td>\n",
       "      <td>[64-66QueensboroughTerrace]</td>\n",
       "      <td>[London]</td>\n",
       "      <td>[UnitedKingdom]</td>\n",
       "      <td>[Hotels]</td>\n",
       "    </tr>\n",
       "    <tr>\n",
       "      <th>2</th>\n",
       "      <td>50650318</td>\n",
       "      <td>7975</td>\n",
       "      <td>Air conditioning: ;Clothes rack: ;Coffee/tea m...</td>\n",
       "      <td>Standard Triple Room</td>\n",
       "      <td>Room size: 20 m²/215 ft², Shower, 3 single beds</td>\n",
       "      <td>Apollo Hotel London</td>\n",
       "      <td>64-66 Queensborough Terrace</td>\n",
       "      <td>London</td>\n",
       "      <td>United Kingdom</td>\n",
       "      <td>Hotels</td>\n",
       "      <td>2</td>\n",
       "      <td>https://www.agoda.com/en-gb/apollo-hotel-londo...</td>\n",
       "      <td>881.48</td>\n",
       "      <td>1055.92</td>\n",
       "      <td>7.540</td>\n",
       "      <td>2.821</td>\n",
       "      <td>5.18</td>\n",
       "      <td>[Airconditioning, Clothesrack, Coffee/teamaker...</td>\n",
       "      <td>[StandardTripleRoom]</td>\n",
       "      <td>[Shower, 3singlebeds]</td>\n",
       "      <td>[64-66QueensboroughTerrace]</td>\n",
       "      <td>[London]</td>\n",
       "      <td>[UnitedKingdom]</td>\n",
       "      <td>[Hotels]</td>\n",
       "    </tr>\n",
       "    <tr>\n",
       "      <th>3</th>\n",
       "      <td>50650319</td>\n",
       "      <td>7975</td>\n",
       "      <td>Air conditioning: ;Clothes rack: ;Coffee/tea m...</td>\n",
       "      <td>Standard Triple Room</td>\n",
       "      <td>Room size: 20 m²/215 ft², Shower, 3 single beds</td>\n",
       "      <td>Apollo Hotel London</td>\n",
       "      <td>64-66 Queensborough Terrace</td>\n",
       "      <td>London</td>\n",
       "      <td>United Kingdom</td>\n",
       "      <td>Hotels</td>\n",
       "      <td>2</td>\n",
       "      <td>https://www.agoda.com/en-gb/apollo-hotel-londo...</td>\n",
       "      <td>881.48</td>\n",
       "      <td>1055.92</td>\n",
       "      <td>7.540</td>\n",
       "      <td>2.821</td>\n",
       "      <td>5.18</td>\n",
       "      <td>[Airconditioning, Clothesrack, Coffee/teamaker...</td>\n",
       "      <td>[StandardTripleRoom]</td>\n",
       "      <td>[Shower, 3singlebeds]</td>\n",
       "      <td>[64-66QueensboroughTerrace]</td>\n",
       "      <td>[London]</td>\n",
       "      <td>[UnitedKingdom]</td>\n",
       "      <td>[Hotels]</td>\n",
       "    </tr>\n",
       "    <tr>\n",
       "      <th>4</th>\n",
       "      <td>50650320</td>\n",
       "      <td>7975</td>\n",
       "      <td>Air conditioning: ;Clothes rack: ;Heating: ;In...</td>\n",
       "      <td>Deluxe Triple Room</td>\n",
       "      <td>Shower, 1 single bed and 1 double bed</td>\n",
       "      <td>Apollo Hotel London</td>\n",
       "      <td>64-66 Queensborough Terrace</td>\n",
       "      <td>London</td>\n",
       "      <td>United Kingdom</td>\n",
       "      <td>Hotels</td>\n",
       "      <td>2</td>\n",
       "      <td>https://www.agoda.com/en-gb/apollo-hotel-londo...</td>\n",
       "      <td>881.48</td>\n",
       "      <td>1055.92</td>\n",
       "      <td>7.540</td>\n",
       "      <td>2.821</td>\n",
       "      <td>5.18</td>\n",
       "      <td>[Airconditioning, Clothesrack, Heating, In-roo...</td>\n",
       "      <td>[DeluxeTripleRoom]</td>\n",
       "      <td>[Shower, 1singlebedand1doublebed]</td>\n",
       "      <td>[64-66QueensboroughTerrace]</td>\n",
       "      <td>[London]</td>\n",
       "      <td>[UnitedKingdom]</td>\n",
       "      <td>[Hotels]</td>\n",
       "    </tr>\n",
       "  </tbody>\n",
       "</table>\n",
       "</div>"
      ],
      "text/plain": [
       "         id  hotelid                                      roomamenities  \\\n",
       "0  50677497   634876  Air conditioning: ;Alarm clock: ;Carpeting: ;C...   \n",
       "1  50650317     7975  Air conditioning: ;Clothes rack: ;Coffee/tea m...   \n",
       "2  50650318     7975  Air conditioning: ;Clothes rack: ;Coffee/tea m...   \n",
       "3  50650319     7975  Air conditioning: ;Clothes rack: ;Coffee/tea m...   \n",
       "4  50650320     7975  Air conditioning: ;Clothes rack: ;Heating: ;In...   \n",
       "\n",
       "               roomtype                                  ratedescription  \\\n",
       "0           Double Room     Room size: 15 m²/161 ft², Shower, 1 king bed   \n",
       "1  Standard Triple Room  Room size: 20 m²/215 ft², Shower, 3 single beds   \n",
       "2  Standard Triple Room  Room size: 20 m²/215 ft², Shower, 3 single beds   \n",
       "3  Standard Triple Room  Room size: 20 m²/215 ft², Shower, 3 single beds   \n",
       "4    Deluxe Triple Room            Shower, 1 single bed and 1 double bed   \n",
       "\n",
       "             hotelname                      address           city  \\\n",
       "0  The Old Cider House             25 Castle Street  Nether Stowey   \n",
       "1  Apollo Hotel London  64-66 Queensborough Terrace         London   \n",
       "2  Apollo Hotel London  64-66 Queensborough Terrace         London   \n",
       "3  Apollo Hotel London  64-66 Queensborough Terrace         London   \n",
       "4  Apollo Hotel London  64-66 Queensborough Terrace         London   \n",
       "\n",
       "          country propertytype  starrating  \\\n",
       "0  United Kingdom       Hotels           4   \n",
       "1  United Kingdom       Hotels           2   \n",
       "2  United Kingdom       Hotels           2   \n",
       "3  United Kingdom       Hotels           2   \n",
       "4  United Kingdom       Hotels           2   \n",
       "\n",
       "                                                 url     min      max  \\\n",
       "0  https://www.agoda.com/en-gb/the-old-cider-hous...   82.36   107.70   \n",
       "1  https://www.agoda.com/en-gb/apollo-hotel-londo...  881.48  1055.92   \n",
       "2  https://www.agoda.com/en-gb/apollo-hotel-londo...  881.48  1055.92   \n",
       "3  https://www.agoda.com/en-gb/apollo-hotel-londo...  881.48  1055.92   \n",
       "4  https://www.agoda.com/en-gb/apollo-hotel-londo...  881.48  1055.92   \n",
       "\n",
       "   Diff_Min  Diff_Max  Score  \\\n",
       "0     0.084     0.418   0.25   \n",
       "1     7.540     2.821   5.18   \n",
       "2     7.540     2.821   5.18   \n",
       "3     7.540     2.821   5.18   \n",
       "4     7.540     2.821   5.18   \n",
       "\n",
       "                                   roomamenities_tag          roomtype_tag  \\\n",
       "0  [Airconditioning, Alarmclock, Carpeting, Close...          [DoubleRoom]   \n",
       "1  [Airconditioning, Clothesrack, Coffee/teamaker...  [StandardTripleRoom]   \n",
       "2  [Airconditioning, Clothesrack, Coffee/teamaker...  [StandardTripleRoom]   \n",
       "3  [Airconditioning, Clothesrack, Coffee/teamaker...  [StandardTripleRoom]   \n",
       "4  [Airconditioning, Clothesrack, Heating, In-roo...    [DeluxeTripleRoom]   \n",
       "\n",
       "                 ratedescription_tag                  address_tag  \\\n",
       "0                 [Shower, 1kingbed]             [25CastleStreet]   \n",
       "1              [Shower, 3singlebeds]  [64-66QueensboroughTerrace]   \n",
       "2              [Shower, 3singlebeds]  [64-66QueensboroughTerrace]   \n",
       "3              [Shower, 3singlebeds]  [64-66QueensboroughTerrace]   \n",
       "4  [Shower, 1singlebedand1doublebed]  [64-66QueensboroughTerrace]   \n",
       "\n",
       "         city_tag      country_tag propertytype_tag  \n",
       "0  [NetherStowey]  [UnitedKingdom]         [Hotels]  \n",
       "1        [London]  [UnitedKingdom]         [Hotels]  \n",
       "2        [London]  [UnitedKingdom]         [Hotels]  \n",
       "3        [London]  [UnitedKingdom]         [Hotels]  \n",
       "4        [London]  [UnitedKingdom]         [Hotels]  "
      ]
     },
     "execution_count": 121,
     "metadata": {},
     "output_type": "execute_result"
    }
   ],
   "source": [
    "df.head()"
   ]
  },
  {
   "cell_type": "markdown",
   "id": "b497f9a6-8458-4ca0-aa63-187e7bab3c04",
   "metadata": {},
   "source": [
    "Creating tags for each room of the hotels as a list of keywords which will serve as the basis for the recommendation system"
   ]
  },
  {
   "cell_type": "code",
   "execution_count": 122,
   "id": "6c804aaf-6098-4dbc-80cf-ee3e0b4b60d7",
   "metadata": {},
   "outputs": [],
   "source": [
    "df['tags'] = df['roomamenities_tag'] + df['roomtype_tag'] + df['ratedescription_tag'] + df['address_tag'] + df['city_tag'] + df['country_tag'] + df['propertytype_tag']"
   ]
  },
  {
   "cell_type": "code",
   "execution_count": 123,
   "id": "41dd1954-c504-430e-979b-f6d2ca6d1801",
   "metadata": {},
   "outputs": [],
   "source": [
    "df['tags'] = df['tags'].apply(lambda x:\" \".join(x))"
   ]
  },
  {
   "cell_type": "markdown",
   "id": "794c0026-3cbd-4aec-ac92-4c838d7e5838",
   "metadata": {},
   "source": [
    "Filtering the important columns"
   ]
  },
  {
   "cell_type": "code",
   "execution_count": 124,
   "id": "160b6756-5edd-4188-8643-01936ff6c578",
   "metadata": {},
   "outputs": [],
   "source": [
    "\n",
    "df_final = df[['hotelname','tags','starrating','roomtype','country','city','propertytype']]"
   ]
  },
  {
   "cell_type": "code",
   "execution_count": 125,
   "id": "5a7bac3b-4bf8-416b-b22d-4d3702dc1e0f",
   "metadata": {},
   "outputs": [
    {
     "data": {
      "text/plain": [
       "np.int64(117114)"
      ]
     },
     "execution_count": 125,
     "metadata": {},
     "output_type": "execute_result"
    }
   ],
   "source": [
    "df_final.duplicated().sum()"
   ]
  },
  {
   "cell_type": "code",
   "execution_count": 126,
   "id": "fb53436c-fdbb-4ab1-8842-b0a74202433a",
   "metadata": {},
   "outputs": [
    {
     "name": "stderr",
     "output_type": "stream",
     "text": [
      "/var/folders/s5/5c3jrgqs0zl2p6sn60l6gf5h0000gn/T/ipykernel_49687/3496236793.py:1: SettingWithCopyWarning: \n",
      "A value is trying to be set on a copy of a slice from a DataFrame\n",
      "\n",
      "See the caveats in the documentation: https://pandas.pydata.org/pandas-docs/stable/user_guide/indexing.html#returning-a-view-versus-a-copy\n",
      "  df_final.drop_duplicates(inplace = True)\n"
     ]
    }
   ],
   "source": [
    "df_final.drop_duplicates(inplace = True)"
   ]
  },
  {
   "cell_type": "code",
   "execution_count": 127,
   "id": "8842e1b2-d452-4ea4-b79e-491804babfed",
   "metadata": {},
   "outputs": [
    {
     "data": {
      "text/plain": [
       "hotelname       0\n",
       "tags            0\n",
       "starrating      0\n",
       "roomtype        0\n",
       "country         0\n",
       "city            0\n",
       "propertytype    0\n",
       "dtype: int64"
      ]
     },
     "execution_count": 127,
     "metadata": {},
     "output_type": "execute_result"
    }
   ],
   "source": [
    "df_final.isna().sum()"
   ]
  },
  {
   "cell_type": "code",
   "execution_count": 128,
   "id": "e985c85b-a39e-4927-9849-ec26532c7880",
   "metadata": {},
   "outputs": [],
   "source": [
    "df_final.reset_index(inplace = True)"
   ]
  },
  {
   "cell_type": "code",
   "execution_count": 129,
   "id": "a8a242d2-5c41-4858-8ec4-dd125389786f",
   "metadata": {},
   "outputs": [
    {
     "data": {
      "text/html": [
       "<div>\n",
       "<style scoped>\n",
       "    .dataframe tbody tr th:only-of-type {\n",
       "        vertical-align: middle;\n",
       "    }\n",
       "\n",
       "    .dataframe tbody tr th {\n",
       "        vertical-align: top;\n",
       "    }\n",
       "\n",
       "    .dataframe thead th {\n",
       "        text-align: right;\n",
       "    }\n",
       "</style>\n",
       "<table border=\"1\" class=\"dataframe\">\n",
       "  <thead>\n",
       "    <tr style=\"text-align: right;\">\n",
       "      <th></th>\n",
       "      <th>index</th>\n",
       "      <th>hotelname</th>\n",
       "      <th>tags</th>\n",
       "      <th>starrating</th>\n",
       "      <th>roomtype</th>\n",
       "      <th>country</th>\n",
       "      <th>city</th>\n",
       "      <th>propertytype</th>\n",
       "    </tr>\n",
       "  </thead>\n",
       "  <tbody>\n",
       "    <tr>\n",
       "      <th>0</th>\n",
       "      <td>0</td>\n",
       "      <td>The Old Cider House</td>\n",
       "      <td>Airconditioning Alarmclock Carpeting Closet Co...</td>\n",
       "      <td>4</td>\n",
       "      <td>Double Room</td>\n",
       "      <td>United Kingdom</td>\n",
       "      <td>Nether Stowey</td>\n",
       "      <td>Hotels</td>\n",
       "    </tr>\n",
       "    <tr>\n",
       "      <th>1</th>\n",
       "      <td>1</td>\n",
       "      <td>Apollo Hotel London</td>\n",
       "      <td>Airconditioning Clothesrack Coffee/teamaker Da...</td>\n",
       "      <td>2</td>\n",
       "      <td>Standard Triple Room</td>\n",
       "      <td>United Kingdom</td>\n",
       "      <td>London</td>\n",
       "      <td>Hotels</td>\n",
       "    </tr>\n",
       "    <tr>\n",
       "      <th>2</th>\n",
       "      <td>4</td>\n",
       "      <td>Apollo Hotel London</td>\n",
       "      <td>Airconditioning Clothesrack Heating In-roomsaf...</td>\n",
       "      <td>2</td>\n",
       "      <td>Deluxe Triple Room</td>\n",
       "      <td>United Kingdom</td>\n",
       "      <td>London</td>\n",
       "      <td>Hotels</td>\n",
       "    </tr>\n",
       "  </tbody>\n",
       "</table>\n",
       "</div>"
      ],
      "text/plain": [
       "   index            hotelname  \\\n",
       "0      0  The Old Cider House   \n",
       "1      1  Apollo Hotel London   \n",
       "2      4  Apollo Hotel London   \n",
       "\n",
       "                                                tags  starrating  \\\n",
       "0  Airconditioning Alarmclock Carpeting Closet Co...           4   \n",
       "1  Airconditioning Clothesrack Coffee/teamaker Da...           2   \n",
       "2  Airconditioning Clothesrack Heating In-roomsaf...           2   \n",
       "\n",
       "               roomtype         country           city propertytype  \n",
       "0           Double Room  United Kingdom  Nether Stowey       Hotels  \n",
       "1  Standard Triple Room  United Kingdom         London       Hotels  \n",
       "2    Deluxe Triple Room  United Kingdom         London       Hotels  "
      ]
     },
     "execution_count": 129,
     "metadata": {},
     "output_type": "execute_result"
    }
   ],
   "source": [
    "df_final.head(3)"
   ]
  },
  {
   "cell_type": "code",
   "execution_count": 130,
   "id": "dc78082c-05dc-4710-8238-1b35ee6f2b64",
   "metadata": {},
   "outputs": [],
   "source": [
    "from sklearn.feature_extraction.text import TfidfVectorizer\n",
    "tfidf = TfidfVectorizer(max_features=1000)"
   ]
  },
  {
   "cell_type": "code",
   "execution_count": 131,
   "id": "c02bae32-c893-459c-b98b-e5d697f6f4d1",
   "metadata": {},
   "outputs": [],
   "source": [
    "from sklearn.metrics.pairwise import cosine_similarity"
   ]
  },
  {
   "cell_type": "markdown",
   "id": "55eb6fad-2000-48e0-9a92-e432dc44f235",
   "metadata": {},
   "source": [
    "Recommender Function"
   ]
  },
  {
   "cell_type": "code",
   "execution_count": 132,
   "id": "1765b55a-b505-4352-829e-6a336467fce6",
   "metadata": {},
   "outputs": [],
   "source": [
    "def recommend(room_type, country, city, property_type):\n",
    "    # Step 1: Filter the main dataframe based on user's requirements\n",
    "    filtered_df = df_final[\n",
    "        (df_final['roomtype'] == room_type) &  # filter by room type (e.g., single, double)\n",
    "        (df_final['country'] == country) &     # filter by country\n",
    "        (df_final['city'] == city) &           # filter by city\n",
    "        (df_final['propertytype'] == property_type)  # filter by property type (e.g., hotel, apartment)\n",
    "    ]\n",
    "\n",
    "    # Step 2: Create a temporary dataframe for hotels in the specified city and country\n",
    "    # This ensures we only recommend hotels within the same city and country\n",
    "    temp = df_final[\n",
    "        (df_final['country'] == country) & \n",
    "        (df_final['city'] == city)\n",
    "    ]\n",
    "\n",
    "    # Step 3: Get the indices of hotels that match user requirements from filtered_df\n",
    "    idx1 = filtered_df['index'].tolist()  # convert the 'index' column into a list\n",
    "\n",
    "    # Step 4: Reset the index of the temporary dataframe\n",
    "    # This makes it easier to map these hotels back to their position in temp dataframe\n",
    "    temp.reset_index(inplace=True)\n",
    "\n",
    "    # Step 5: Find the positions of the hotels from idx1 within the temp dataframe\n",
    "    idx2 = temp[temp['index'].isin(idx1)].index.tolist()\n",
    "\n",
    "    # Step 6: Create a similarity matrix using the 'tags' column\n",
    "    # The 'tags' column contains features like hotel descriptions, amenities, etc.\n",
    "    vector = tfidf.fit_transform(temp['tags']).toarray()  # convert tags to numerical data\n",
    "    similarity = cosine_similarity(vector)  # calculate similarity between hotels\n",
    "\n",
    "    # Step 7: For each hotel in idx2 (hotels matching user criteria)\n",
    "    # Get the top 5 similar hotels based on the similarity matrix\n",
    "    for i in idx2:\n",
    "        similar_hotels = sorted(list(enumerate(similarity[i])), key=lambda x: x[1], reverse=True)[0:5]\n",
    "        \n",
    "        # Step 8: Print hotel names and room types of the top 5 similar hotels\n",
    "        for hotel in similar_hotels:\n",
    "            print(tuple(temp.loc[hotel[0]][['hotelname', 'roomtype']]))\n"
   ]
  },
  {
   "cell_type": "code",
   "execution_count": 133,
   "id": "3fb0a732-4d83-49df-9878-4a629ecddc2a",
   "metadata": {},
   "outputs": [
    {
     "name": "stdout",
     "output_type": "stream",
     "text": [
      "('Hotel Mons am Goetheplatz', 'Comfort Single Room')\n",
      "('Hotel Mons am Goetheplatz', 'Standard Single Room')\n",
      "('Hotel Mons am Goetheplatz', 'Comfort Double Room')\n",
      "('Hotel Mons am Goetheplatz', 'Single Room with Shared Bathroom')\n",
      "('Hotel Mons am Goetheplatz', 'Standard Double Room')\n",
      "('Hotel Freisinger Hof', 'Comfort Single Room')\n",
      "('Hotel Freisinger Hof', 'Superior Single Room')\n",
      "('Hotel Freisinger Hof', 'Classic Single Room - Annex')\n",
      "('Hotel Freisinger Hof', 'Comfort Double Room')\n",
      "('Hotel Freisinger Hof', 'Suite')\n",
      "('Hotel am Schlosspark Zum Kurfurst', 'Comfort Single Room')\n",
      "('Hotel am Schlosspark Zum Kurfurst', 'Superior Double Room')\n",
      "('Hotel am Schlosspark Zum Kurfurst', 'Comfort Double Room')\n",
      "('Hotel Freisinger Hof', 'Comfort Single Room')\n",
      "('Hotel Freisinger Hof', 'Superior Single Room')\n"
     ]
    }
   ],
   "source": [
    "recommend('Comfort Single Room','Germany','Munich','Hotels')"
   ]
  },
  {
   "cell_type": "code",
   "execution_count": 134,
   "id": "aace9499-5710-405b-872a-0d71ad023b5d",
   "metadata": {},
   "outputs": [
    {
     "name": "stdout",
     "output_type": "stream",
     "text": [
      "('Ramada by Wyndham Muenchen Airport', 'Superior Double Room')\n",
      "('Ramada by Wyndham Muenchen Airport', 'Standard Double Room')\n",
      "('Ramada by Wyndham Muenchen Airport', 'Superior Single Room')\n",
      "('Ramada by Wyndham Muenchen Airport', 'Standard Single Room')\n",
      "('Ramada by Wyndham Muenchen Airport', 'Economy Single')\n",
      "('GHOTEL hotel & living Munich-Nymphenburg', 'Superior Double Room')\n",
      "('GHOTEL hotel & living Munich-Nymphenburg', 'Superior Single Room')\n",
      "('GHOTEL hotel & living Munich-Nymphenburg', 'Business Single Room')\n",
      "('GHOTEL hotel & living Munich-Nymphenburg', 'Superior Twin Room')\n",
      "('GHOTEL hotel & living Munich-Nymphenburg', 'Run of House')\n",
      "('Hotel Admiral', 'Superior Double Room')\n",
      "('Hotel Admiral', 'Superior Double Room')\n",
      "('Hotel Admiral', 'Single Room')\n",
      "('Hotel Admiral', 'Double Room')\n",
      "('Hotel Freisinger Hof', 'Superior Double Room')\n",
      "('Hotel Admiral', 'Superior Double Room')\n",
      "('Hotel Admiral', 'Superior Double Room')\n",
      "('Hotel Admiral', 'Single Room')\n",
      "('Hotel Admiral', 'Double Room')\n",
      "('Hotel Freisinger Hof', 'Superior Double Room')\n",
      "('Grand Excelsior Hotel Munich Airport', 'Superior Double Room')\n",
      "('Grand Excelsior Hotel Munich Airport', 'Standard Twin Room')\n",
      "('Grand Excelsior Hotel Munich Airport', 'Superior Family Room')\n",
      "('Grand Excelsior Hotel Munich Airport', 'Suite')\n",
      "('Hotel Freisinger Hof', 'Superior Double Room')\n",
      "('Hotel Freisinger Hof', 'Superior Double Room')\n",
      "('Hotel Freisinger Hof', 'Comfort Double Room')\n",
      "('Hotel Freisinger Hof', 'Suite')\n",
      "('Hotel Freisinger Hof', 'Superior Single Room')\n",
      "('Hotel Freisinger Hof', 'Comfort Single Room')\n",
      "('NH Munchen City Sud', 'Superior Double Room')\n",
      "('NH Munchen City Sud', 'Family Suite')\n",
      "('NH Munchen City Sud', 'Mini Suite')\n",
      "('NH Munchen City Sud', 'Silken Club')\n",
      "('Hotel Freisinger Hof', 'Superior Double Room')\n",
      "('Novotel Muenchen Messe Hotel', 'Superior Double Room')\n",
      "('Novotel Muenchen Messe Hotel', 'Standard Double Room')\n",
      "('Novotel Munchen Messe', 'Superior Room')\n",
      "('Novotel Muenchen Messe Hotel', 'Standard Twin Room')\n",
      "('Novotel Muenchen Messe Hotel', 'Standard Queen Room')\n",
      "('Hotel am Schlosspark Zum Kurfurst', 'Superior Double Room')\n",
      "('Hotel am Schlosspark Zum Kurfurst', 'Comfort Double Room')\n",
      "('Hotel am Schlosspark Zum Kurfurst', 'Comfort Single Room')\n",
      "('Hotel Freisinger Hof', 'Superior Double Room')\n",
      "('Hotel Admiral', 'Superior Double Room')\n"
     ]
    }
   ],
   "source": [
    "recommend('Superior Double Room','Germany','Munich','Hotels')"
   ]
  },
  {
   "cell_type": "code",
   "execution_count": 136,
   "id": "b9876719-0980-49cb-8670-a2b9f1c67d24",
   "metadata": {},
   "outputs": [],
   "source": [
    "# Save the existing DataFrame 'df' to a CSV file on your local machine\n",
    "df_final.to_csv('contentfinal.csv', index=False)\n"
   ]
  },
  {
   "cell_type": "code",
   "execution_count": 137,
   "id": "0c06c860-3bbe-4fb9-a69a-7f330f46a182",
   "metadata": {},
   "outputs": [],
   "source": [
    "import pandas as pd\n",
    "\n",
    "# Assuming 'df' is your DataFrame\n",
    "df_final.to_pickle('hotels.pkl')  # Save DataFrame as a pickle file\n"
   ]
  },
  {
   "cell_type": "code",
   "execution_count": 138,
   "id": "33082ea3",
   "metadata": {},
   "outputs": [],
   "source": [
    "import pickle\n",
    "\n",
    "# Save the DataFrame\n",
    "with open('hotels.pkl', 'wb') as file:\n",
    "    pickle.dump(df_final, file)\n"
   ]
  },
  {
   "cell_type": "code",
   "execution_count": null,
   "id": "d151b890",
   "metadata": {},
   "outputs": [],
   "source": []
  }
 ],
 "metadata": {
  "kernelspec": {
   "display_name": "Python 3 (ipykernel)",
   "language": "python",
   "name": "python3"
  },
  "language_info": {
   "codemirror_mode": {
    "name": "ipython",
    "version": 3
   },
   "file_extension": ".py",
   "mimetype": "text/x-python",
   "name": "python",
   "nbconvert_exporter": "python",
   "pygments_lexer": "ipython3",
   "version": "3.12.4"
  }
 },
 "nbformat": 4,
 "nbformat_minor": 5
}
